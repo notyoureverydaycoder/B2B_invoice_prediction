{
  "nbformat": 4,
  "nbformat_minor": 0,
  "metadata": {
    "kernelspec": {
      "display_name": "Python 3",
      "language": "python",
      "name": "python3"
    },
    "language_info": {
      "codemirror_mode": {
        "name": "ipython",
        "version": 3
      },
      "file_extension": ".py",
      "mimetype": "text/x-python",
      "name": "python",
      "nbconvert_exporter": "python",
      "pygments_lexer": "ipython3",
      "version": "3.7.7"
    },
    "colab": {
      "name": "DarthVader_1803045_EDA.ipynb",
      "provenance": []
    }
  },
  "cells": [
    {
      "cell_type": "markdown",
      "metadata": {
        "id": "N7r6JT5mS4BI"
      },
      "source": [
        "importing libraries"
      ]
    },
    {
      "cell_type": "code",
      "metadata": {
        "id": "dQn404doS1Af"
      },
      "source": [
        "import pandas as pd\n",
        "import numpy as np"
      ],
      "execution_count": null,
      "outputs": []
    },
    {
      "cell_type": "code",
      "metadata": {
        "id": "fWVkK3i-S1Ar"
      },
      "source": [
        "from sklearn.model_selection import train_test_split\n",
        "from sklearn.linear_model import LinearRegression\n",
        "from sklearn import metrics\n",
        "from sklearn.ensemble import RandomForestRegressor,  GradientBoostingRegressor\n",
        "from sklearn.metrics import mean_squared_error\n",
        "from sklearn.model_selection import KFold, cross_val_score\n",
        "from sklearn.metrics import mean_squared_error"
      ],
      "execution_count": null,
      "outputs": []
    },
    {
      "cell_type": "markdown",
      "metadata": {
        "id": "zq_uwrDyS-I2"
      },
      "source": [
        "read file"
      ]
    },
    {
      "cell_type": "code",
      "metadata": {
        "id": "19ffRX3WS1As"
      },
      "source": [
        "df=pd.read_csv(r'C:\\Users\\KIIT\\1803045.csv')"
      ],
      "execution_count": null,
      "outputs": []
    },
    {
      "cell_type": "code",
      "metadata": {
        "id": "gJBHC7sWS1As",
        "outputId": "9bc63cd6-b490-417c-f084-f3cbeea3ace1"
      },
      "source": [
        "df.info()"
      ],
      "execution_count": null,
      "outputs": [
        {
          "output_type": "stream",
          "text": [
            "<class 'pandas.core.frame.DataFrame'>\n",
            "RangeIndex: 50000 entries, 0 to 49999\n",
            "Data columns (total 19 columns):\n",
            " #   Column                  Non-Null Count  Dtype  \n",
            "---  ------                  --------------  -----  \n",
            " 0   business_code           50000 non-null  object \n",
            " 1   cust_number             50000 non-null  object \n",
            " 2   name_customer           50000 non-null  object \n",
            " 3   clear_date              46449 non-null  object \n",
            " 4   buisness_year           50000 non-null  float64\n",
            " 5   doc_id                  50000 non-null  float64\n",
            " 6   posting_date            50000 non-null  object \n",
            " 7   document_create_date    50000 non-null  int64  \n",
            " 8   document_create_date.1  50000 non-null  int64  \n",
            " 9   due_in_date             50000 non-null  float64\n",
            " 10  invoice_currency        50000 non-null  object \n",
            " 11  document type           50000 non-null  object \n",
            " 12  posting_id              50000 non-null  float64\n",
            " 13  area_business           0 non-null      float64\n",
            " 14  total_open_amount       50000 non-null  float64\n",
            " 15  baseline_create_date    50000 non-null  float64\n",
            " 16  cust_payment_terms      50000 non-null  object \n",
            " 17  invoice_id              49993 non-null  float64\n",
            " 18  isOpen                  50000 non-null  int64  \n",
            "dtypes: float64(8), int64(3), object(8)\n",
            "memory usage: 7.2+ MB\n"
          ],
          "name": "stdout"
        }
      ]
    },
    {
      "cell_type": "code",
      "metadata": {
        "id": "02Hl5IMjS1Au",
        "outputId": "770a55e9-7ed0-44b8-87b5-8751198bfc17"
      },
      "source": [
        "df.head()"
      ],
      "execution_count": null,
      "outputs": [
        {
          "output_type": "execute_result",
          "data": {
            "text/html": [
              "<div>\n",
              "<style scoped>\n",
              "    .dataframe tbody tr th:only-of-type {\n",
              "        vertical-align: middle;\n",
              "    }\n",
              "\n",
              "    .dataframe tbody tr th {\n",
              "        vertical-align: top;\n",
              "    }\n",
              "\n",
              "    .dataframe thead th {\n",
              "        text-align: right;\n",
              "    }\n",
              "</style>\n",
              "<table border=\"1\" class=\"dataframe\">\n",
              "  <thead>\n",
              "    <tr style=\"text-align: right;\">\n",
              "      <th></th>\n",
              "      <th>business_code</th>\n",
              "      <th>cust_number</th>\n",
              "      <th>name_customer</th>\n",
              "      <th>clear_date</th>\n",
              "      <th>buisness_year</th>\n",
              "      <th>doc_id</th>\n",
              "      <th>posting_date</th>\n",
              "      <th>document_create_date</th>\n",
              "      <th>document_create_date.1</th>\n",
              "      <th>due_in_date</th>\n",
              "      <th>invoice_currency</th>\n",
              "      <th>document type</th>\n",
              "      <th>posting_id</th>\n",
              "      <th>area_business</th>\n",
              "      <th>total_open_amount</th>\n",
              "      <th>baseline_create_date</th>\n",
              "      <th>cust_payment_terms</th>\n",
              "      <th>invoice_id</th>\n",
              "      <th>isOpen</th>\n",
              "    </tr>\n",
              "  </thead>\n",
              "  <tbody>\n",
              "    <tr>\n",
              "      <th>0</th>\n",
              "      <td>U001</td>\n",
              "      <td>0200020431</td>\n",
              "      <td>DEC associates</td>\n",
              "      <td>2020-03-02 00:00:00</td>\n",
              "      <td>2020.0</td>\n",
              "      <td>1.930548e+09</td>\n",
              "      <td>2020-02-20</td>\n",
              "      <td>20200220</td>\n",
              "      <td>20200220</td>\n",
              "      <td>20200310.0</td>\n",
              "      <td>USD</td>\n",
              "      <td>RV</td>\n",
              "      <td>1.0</td>\n",
              "      <td>NaN</td>\n",
              "      <td>3492.90</td>\n",
              "      <td>20200216.0</td>\n",
              "      <td>NAM4</td>\n",
              "      <td>1.930548e+09</td>\n",
              "      <td>0</td>\n",
              "    </tr>\n",
              "    <tr>\n",
              "      <th>1</th>\n",
              "      <td>U001</td>\n",
              "      <td>0200078795</td>\n",
              "      <td>H T H in</td>\n",
              "      <td>2019-04-10 00:00:00</td>\n",
              "      <td>2019.0</td>\n",
              "      <td>1.929042e+09</td>\n",
              "      <td>2019-03-27</td>\n",
              "      <td>20190327</td>\n",
              "      <td>20190327</td>\n",
              "      <td>20190411.0</td>\n",
              "      <td>USD</td>\n",
              "      <td>RV</td>\n",
              "      <td>1.0</td>\n",
              "      <td>NaN</td>\n",
              "      <td>4772.38</td>\n",
              "      <td>20190327.0</td>\n",
              "      <td>NAA8</td>\n",
              "      <td>1.929042e+09</td>\n",
              "      <td>0</td>\n",
              "    </tr>\n",
              "    <tr>\n",
              "      <th>2</th>\n",
              "      <td>U001</td>\n",
              "      <td>0200769623</td>\n",
              "      <td>WAL-MAR systems</td>\n",
              "      <td>2019-09-03 00:00:00</td>\n",
              "      <td>2019.0</td>\n",
              "      <td>1.929767e+09</td>\n",
              "      <td>2019-08-21</td>\n",
              "      <td>20190820</td>\n",
              "      <td>20190821</td>\n",
              "      <td>20190905.0</td>\n",
              "      <td>USD</td>\n",
              "      <td>RV</td>\n",
              "      <td>1.0</td>\n",
              "      <td>NaN</td>\n",
              "      <td>15894.82</td>\n",
              "      <td>20190821.0</td>\n",
              "      <td>NAH4</td>\n",
              "      <td>1.929767e+09</td>\n",
              "      <td>0</td>\n",
              "    </tr>\n",
              "    <tr>\n",
              "      <th>3</th>\n",
              "      <td>U001</td>\n",
              "      <td>0200769623</td>\n",
              "      <td>WAL-MAR corporation</td>\n",
              "      <td>2020-02-12 00:00:00</td>\n",
              "      <td>2020.0</td>\n",
              "      <td>1.930460e+09</td>\n",
              "      <td>2020-02-01</td>\n",
              "      <td>20200130</td>\n",
              "      <td>20200201</td>\n",
              "      <td>20200216.0</td>\n",
              "      <td>USD</td>\n",
              "      <td>RV</td>\n",
              "      <td>1.0</td>\n",
              "      <td>NaN</td>\n",
              "      <td>55317.82</td>\n",
              "      <td>20200201.0</td>\n",
              "      <td>NAH4</td>\n",
              "      <td>1.930460e+09</td>\n",
              "      <td>0</td>\n",
              "    </tr>\n",
              "    <tr>\n",
              "      <th>4</th>\n",
              "      <td>U001</td>\n",
              "      <td>200769623</td>\n",
              "      <td>WAL-MAR associates</td>\n",
              "      <td>2019-03-18 00:00:00</td>\n",
              "      <td>2019.0</td>\n",
              "      <td>1.928913e+09</td>\n",
              "      <td>2019-03-07</td>\n",
              "      <td>20190306</td>\n",
              "      <td>20190307</td>\n",
              "      <td>20190322.0</td>\n",
              "      <td>USD</td>\n",
              "      <td>RV</td>\n",
              "      <td>1.0</td>\n",
              "      <td>NaN</td>\n",
              "      <td>50710.15</td>\n",
              "      <td>20190307.0</td>\n",
              "      <td>NAH4</td>\n",
              "      <td>1.928913e+09</td>\n",
              "      <td>0</td>\n",
              "    </tr>\n",
              "  </tbody>\n",
              "</table>\n",
              "</div>"
            ],
            "text/plain": [
              "  business_code cust_number        name_customer           clear_date  \\\n",
              "0          U001  0200020431       DEC associates  2020-03-02 00:00:00   \n",
              "1          U001  0200078795             H T H in  2019-04-10 00:00:00   \n",
              "2          U001  0200769623      WAL-MAR systems  2019-09-03 00:00:00   \n",
              "3          U001  0200769623  WAL-MAR corporation  2020-02-12 00:00:00   \n",
              "4          U001   200769623   WAL-MAR associates  2019-03-18 00:00:00   \n",
              "\n",
              "   buisness_year        doc_id posting_date  document_create_date  \\\n",
              "0         2020.0  1.930548e+09   2020-02-20              20200220   \n",
              "1         2019.0  1.929042e+09   2019-03-27              20190327   \n",
              "2         2019.0  1.929767e+09   2019-08-21              20190820   \n",
              "3         2020.0  1.930460e+09   2020-02-01              20200130   \n",
              "4         2019.0  1.928913e+09   2019-03-07              20190306   \n",
              "\n",
              "   document_create_date.1  due_in_date invoice_currency document type  \\\n",
              "0                20200220   20200310.0              USD            RV   \n",
              "1                20190327   20190411.0              USD            RV   \n",
              "2                20190821   20190905.0              USD            RV   \n",
              "3                20200201   20200216.0              USD            RV   \n",
              "4                20190307   20190322.0              USD            RV   \n",
              "\n",
              "   posting_id  area_business  total_open_amount  baseline_create_date  \\\n",
              "0         1.0            NaN            3492.90            20200216.0   \n",
              "1         1.0            NaN            4772.38            20190327.0   \n",
              "2         1.0            NaN           15894.82            20190821.0   \n",
              "3         1.0            NaN           55317.82            20200201.0   \n",
              "4         1.0            NaN           50710.15            20190307.0   \n",
              "\n",
              "  cust_payment_terms    invoice_id  isOpen  \n",
              "0               NAM4  1.930548e+09       0  \n",
              "1               NAA8  1.929042e+09       0  \n",
              "2               NAH4  1.929767e+09       0  \n",
              "3               NAH4  1.930460e+09       0  \n",
              "4               NAH4  1.928913e+09       0  "
            ]
          },
          "metadata": {
            "tags": []
          },
          "execution_count": 5
        }
      ]
    },
    {
      "cell_type": "markdown",
      "metadata": {
        "id": "T4PpwWdXTIz-"
      },
      "source": [
        "checking for null values"
      ]
    },
    {
      "cell_type": "code",
      "metadata": {
        "id": "o48lEeTaS1Av",
        "outputId": "23709720-fb32-4ebb-ff93-e3225351ef8c"
      },
      "source": [
        "for columns in df.columns:\n",
        "  print(columns,\": null values are \",df[columns].isnull().sum())"
      ],
      "execution_count": null,
      "outputs": [
        {
          "output_type": "stream",
          "text": [
            "business_code : null values are  0\n",
            "cust_number : null values are  0\n",
            "name_customer : null values are  0\n",
            "clear_date : null values are  3551\n",
            "buisness_year : null values are  0\n",
            "doc_id : null values are  0\n",
            "posting_date : null values are  0\n",
            "document_create_date : null values are  0\n",
            "document_create_date.1 : null values are  0\n",
            "due_in_date : null values are  0\n",
            "invoice_currency : null values are  0\n",
            "document type : null values are  0\n",
            "posting_id : null values are  0\n",
            "area_business : null values are  50000\n",
            "total_open_amount : null values are  0\n",
            "baseline_create_date : null values are  0\n",
            "cust_payment_terms : null values are  0\n",
            "invoice_id : null values are  7\n",
            "isOpen : null values are  0\n"
          ],
          "name": "stdout"
        }
      ]
    },
    {
      "cell_type": "markdown",
      "metadata": {
        "id": "dDf-JOt6TL_q"
      },
      "source": [
        "removing null value elements"
      ]
    },
    {
      "cell_type": "code",
      "metadata": {
        "id": "3k84I49kS1Av"
      },
      "source": [
        "df_clear_date=df[df['clear_date'].isnull()]\n",
        "df=df[df['clear_date'].notnull()]"
      ],
      "execution_count": null,
      "outputs": []
    },
    {
      "cell_type": "code",
      "metadata": {
        "id": "47aYYlZaS1Aw",
        "outputId": "357f3f07-4f2d-4cf1-9738-51c717ca3048"
      },
      "source": [
        "df_clear_date.shape"
      ],
      "execution_count": null,
      "outputs": [
        {
          "output_type": "execute_result",
          "data": {
            "text/plain": [
              "(3551, 19)"
            ]
          },
          "metadata": {
            "tags": []
          },
          "execution_count": 8
        }
      ]
    },
    {
      "cell_type": "code",
      "metadata": {
        "id": "7J3gLsg7S1Aw",
        "outputId": "4625bcb7-1fab-4f17-cdbd-6f0eb60c3cd4"
      },
      "source": [
        "df.shape"
      ],
      "execution_count": null,
      "outputs": [
        {
          "output_type": "execute_result",
          "data": {
            "text/plain": [
              "(46449, 19)"
            ]
          },
          "metadata": {
            "tags": []
          },
          "execution_count": 9
        }
      ]
    },
    {
      "cell_type": "code",
      "metadata": {
        "id": "1iU0QDOzS1Ax",
        "outputId": "31894b13-6be5-4007-8c98-ea265cae69b5"
      },
      "source": [
        "df.isnull().sum()"
      ],
      "execution_count": null,
      "outputs": [
        {
          "output_type": "execute_result",
          "data": {
            "text/plain": [
              "business_code                 0\n",
              "cust_number                   0\n",
              "name_customer                 0\n",
              "clear_date                    0\n",
              "buisness_year                 0\n",
              "doc_id                        0\n",
              "posting_date                  0\n",
              "document_create_date          0\n",
              "document_create_date.1        0\n",
              "due_in_date                   0\n",
              "invoice_currency              0\n",
              "document type                 0\n",
              "posting_id                    0\n",
              "area_business             46449\n",
              "total_open_amount             0\n",
              "baseline_create_date          0\n",
              "cust_payment_terms            0\n",
              "invoice_id                    7\n",
              "isOpen                        0\n",
              "dtype: int64"
            ]
          },
          "metadata": {
            "tags": []
          },
          "execution_count": 10
        }
      ]
    },
    {
      "cell_type": "code",
      "metadata": {
        "id": "lPOAQR70S1Ax",
        "outputId": "3ca42f18-c554-4bc5-bd17-0a591398a9e9"
      },
      "source": [
        "len(df['invoice_id'].unique())"
      ],
      "execution_count": null,
      "outputs": [
        {
          "output_type": "execute_result",
          "data": {
            "text/plain": [
              "46443"
            ]
          },
          "metadata": {
            "tags": []
          },
          "execution_count": 11
        }
      ]
    },
    {
      "cell_type": "markdown",
      "metadata": {
        "id": "n-TCkQnCTUEA"
      },
      "source": [
        "comparing doc_id and invoice_id values"
      ]
    },
    {
      "cell_type": "code",
      "metadata": {
        "id": "5i7Zx2_iS1Ay",
        "outputId": "4419c76c-a541-400e-c23e-abd491dbe3e6"
      },
      "source": [
        "df[df['doc_id']==df['invoice_id']].shape"
      ],
      "execution_count": null,
      "outputs": [
        {
          "output_type": "execute_result",
          "data": {
            "text/plain": [
              "(46442, 19)"
            ]
          },
          "metadata": {
            "tags": []
          },
          "execution_count": 12
        }
      ]
    },
    {
      "cell_type": "code",
      "metadata": {
        "id": "jpnntWdkS1Ay",
        "outputId": "98a49984-5d24-4ac1-e539-2a88e5f3efa6"
      },
      "source": [
        "df.loc[1:5,'cust_number':'name_customer']"
      ],
      "execution_count": null,
      "outputs": [
        {
          "output_type": "execute_result",
          "data": {
            "text/html": [
              "<div>\n",
              "<style scoped>\n",
              "    .dataframe tbody tr th:only-of-type {\n",
              "        vertical-align: middle;\n",
              "    }\n",
              "\n",
              "    .dataframe tbody tr th {\n",
              "        vertical-align: top;\n",
              "    }\n",
              "\n",
              "    .dataframe thead th {\n",
              "        text-align: right;\n",
              "    }\n",
              "</style>\n",
              "<table border=\"1\" class=\"dataframe\">\n",
              "  <thead>\n",
              "    <tr style=\"text-align: right;\">\n",
              "      <th></th>\n",
              "      <th>cust_number</th>\n",
              "      <th>name_customer</th>\n",
              "    </tr>\n",
              "  </thead>\n",
              "  <tbody>\n",
              "    <tr>\n",
              "      <th>1</th>\n",
              "      <td>0200078795</td>\n",
              "      <td>H T H in</td>\n",
              "    </tr>\n",
              "    <tr>\n",
              "      <th>2</th>\n",
              "      <td>0200769623</td>\n",
              "      <td>WAL-MAR systems</td>\n",
              "    </tr>\n",
              "    <tr>\n",
              "      <th>3</th>\n",
              "      <td>0200769623</td>\n",
              "      <td>WAL-MAR corporation</td>\n",
              "    </tr>\n",
              "    <tr>\n",
              "      <th>4</th>\n",
              "      <td>200769623</td>\n",
              "      <td>WAL-MAR associates</td>\n",
              "    </tr>\n",
              "    <tr>\n",
              "      <th>5</th>\n",
              "      <td>0200769623</td>\n",
              "      <td>WAL-MAR trust</td>\n",
              "    </tr>\n",
              "  </tbody>\n",
              "</table>\n",
              "</div>"
            ],
            "text/plain": [
              "  cust_number        name_customer\n",
              "1  0200078795             H T H in\n",
              "2  0200769623      WAL-MAR systems\n",
              "3  0200769623  WAL-MAR corporation\n",
              "4   200769623   WAL-MAR associates\n",
              "5  0200769623        WAL-MAR trust"
            ]
          },
          "metadata": {
            "tags": []
          },
          "execution_count": 13
        }
      ]
    },
    {
      "cell_type": "code",
      "metadata": {
        "id": "8HJI6DkFS1Ay",
        "outputId": "1d95ecab-157a-4caa-b84e-634c3d62d5e4"
      },
      "source": [
        "df['clear_date'].isnull().sum()"
      ],
      "execution_count": null,
      "outputs": [
        {
          "output_type": "execute_result",
          "data": {
            "text/plain": [
              "0"
            ]
          },
          "metadata": {
            "tags": []
          },
          "execution_count": 14
        }
      ]
    },
    {
      "cell_type": "code",
      "metadata": {
        "id": "HICvoSbLS1Az",
        "outputId": "ab4a5827-afee-4be1-ebc7-62d92b74f6f2"
      },
      "source": [
        "df['area_business'].isnull().sum()"
      ],
      "execution_count": null,
      "outputs": [
        {
          "output_type": "execute_result",
          "data": {
            "text/plain": [
              "46449"
            ]
          },
          "metadata": {
            "tags": []
          },
          "execution_count": 15
        }
      ]
    },
    {
      "cell_type": "markdown",
      "metadata": {
        "id": "TDjlJnfxTg6-"
      },
      "source": [
        "converting all dates to datetime format %Y%m%d"
      ]
    },
    {
      "cell_type": "code",
      "metadata": {
        "id": "aqjF4XDnS1Az"
      },
      "source": [
        "data=df\n",
        "def convertIntoDateTime(x):\n",
        "    list1 = [str(y) for y in x]\n",
        "    s=pd.to_datetime(list1,format='%Y%m%d')\n",
        "    return s\n",
        "\n",
        "data[[\"document_create_date\",\"document_create_date.1\",\"baseline_create_date\",\"due_in_date\"]] = data[[\"document_create_date\",\"document_create_date.1\",\"baseline_create_date\",\"due_in_date\"]].apply(convertIntoDateTime) "
      ],
      "execution_count": null,
      "outputs": []
    },
    {
      "cell_type": "code",
      "metadata": {
        "id": "rSvYJtlYS1A0"
      },
      "source": [
        "df['clear_date']=pd.to_datetime(df['clear_date'])\n",
        "df['posting_date'] = pd.to_datetime(df['posting_date'])"
      ],
      "execution_count": null,
      "outputs": []
    },
    {
      "cell_type": "code",
      "metadata": {
        "id": "iZKDlQTPS1A0",
        "outputId": "e7276187-f82a-4505-9137-2841a2f07ee7"
      },
      "source": [
        "df=data\n",
        "df"
      ],
      "execution_count": null,
      "outputs": [
        {
          "output_type": "execute_result",
          "data": {
            "text/html": [
              "<div>\n",
              "<style scoped>\n",
              "    .dataframe tbody tr th:only-of-type {\n",
              "        vertical-align: middle;\n",
              "    }\n",
              "\n",
              "    .dataframe tbody tr th {\n",
              "        vertical-align: top;\n",
              "    }\n",
              "\n",
              "    .dataframe thead th {\n",
              "        text-align: right;\n",
              "    }\n",
              "</style>\n",
              "<table border=\"1\" class=\"dataframe\">\n",
              "  <thead>\n",
              "    <tr style=\"text-align: right;\">\n",
              "      <th></th>\n",
              "      <th>business_code</th>\n",
              "      <th>cust_number</th>\n",
              "      <th>name_customer</th>\n",
              "      <th>clear_date</th>\n",
              "      <th>buisness_year</th>\n",
              "      <th>doc_id</th>\n",
              "      <th>posting_date</th>\n",
              "      <th>document_create_date</th>\n",
              "      <th>document_create_date.1</th>\n",
              "      <th>due_in_date</th>\n",
              "      <th>invoice_currency</th>\n",
              "      <th>document type</th>\n",
              "      <th>posting_id</th>\n",
              "      <th>area_business</th>\n",
              "      <th>total_open_amount</th>\n",
              "      <th>baseline_create_date</th>\n",
              "      <th>cust_payment_terms</th>\n",
              "      <th>invoice_id</th>\n",
              "      <th>isOpen</th>\n",
              "    </tr>\n",
              "  </thead>\n",
              "  <tbody>\n",
              "    <tr>\n",
              "      <th>0</th>\n",
              "      <td>U001</td>\n",
              "      <td>0200020431</td>\n",
              "      <td>DEC associates</td>\n",
              "      <td>2020-03-02</td>\n",
              "      <td>2020.0</td>\n",
              "      <td>1.930548e+09</td>\n",
              "      <td>2020-02-20</td>\n",
              "      <td>2020-02-20</td>\n",
              "      <td>2020-02-20</td>\n",
              "      <td>2020-03-10</td>\n",
              "      <td>USD</td>\n",
              "      <td>RV</td>\n",
              "      <td>1.0</td>\n",
              "      <td>NaN</td>\n",
              "      <td>3492.90</td>\n",
              "      <td>2020-02-16</td>\n",
              "      <td>NAM4</td>\n",
              "      <td>1.930548e+09</td>\n",
              "      <td>0</td>\n",
              "    </tr>\n",
              "    <tr>\n",
              "      <th>1</th>\n",
              "      <td>U001</td>\n",
              "      <td>0200078795</td>\n",
              "      <td>H T H in</td>\n",
              "      <td>2019-04-10</td>\n",
              "      <td>2019.0</td>\n",
              "      <td>1.929042e+09</td>\n",
              "      <td>2019-03-27</td>\n",
              "      <td>2019-03-27</td>\n",
              "      <td>2019-03-27</td>\n",
              "      <td>2019-04-11</td>\n",
              "      <td>USD</td>\n",
              "      <td>RV</td>\n",
              "      <td>1.0</td>\n",
              "      <td>NaN</td>\n",
              "      <td>4772.38</td>\n",
              "      <td>2019-03-27</td>\n",
              "      <td>NAA8</td>\n",
              "      <td>1.929042e+09</td>\n",
              "      <td>0</td>\n",
              "    </tr>\n",
              "    <tr>\n",
              "      <th>2</th>\n",
              "      <td>U001</td>\n",
              "      <td>0200769623</td>\n",
              "      <td>WAL-MAR systems</td>\n",
              "      <td>2019-09-03</td>\n",
              "      <td>2019.0</td>\n",
              "      <td>1.929767e+09</td>\n",
              "      <td>2019-08-21</td>\n",
              "      <td>2019-08-20</td>\n",
              "      <td>2019-08-21</td>\n",
              "      <td>2019-09-05</td>\n",
              "      <td>USD</td>\n",
              "      <td>RV</td>\n",
              "      <td>1.0</td>\n",
              "      <td>NaN</td>\n",
              "      <td>15894.82</td>\n",
              "      <td>2019-08-21</td>\n",
              "      <td>NAH4</td>\n",
              "      <td>1.929767e+09</td>\n",
              "      <td>0</td>\n",
              "    </tr>\n",
              "    <tr>\n",
              "      <th>3</th>\n",
              "      <td>U001</td>\n",
              "      <td>0200769623</td>\n",
              "      <td>WAL-MAR corporation</td>\n",
              "      <td>2020-02-12</td>\n",
              "      <td>2020.0</td>\n",
              "      <td>1.930460e+09</td>\n",
              "      <td>2020-02-01</td>\n",
              "      <td>2020-01-30</td>\n",
              "      <td>2020-02-01</td>\n",
              "      <td>2020-02-16</td>\n",
              "      <td>USD</td>\n",
              "      <td>RV</td>\n",
              "      <td>1.0</td>\n",
              "      <td>NaN</td>\n",
              "      <td>55317.82</td>\n",
              "      <td>2020-02-01</td>\n",
              "      <td>NAH4</td>\n",
              "      <td>1.930460e+09</td>\n",
              "      <td>0</td>\n",
              "    </tr>\n",
              "    <tr>\n",
              "      <th>4</th>\n",
              "      <td>U001</td>\n",
              "      <td>200769623</td>\n",
              "      <td>WAL-MAR associates</td>\n",
              "      <td>2019-03-18</td>\n",
              "      <td>2019.0</td>\n",
              "      <td>1.928913e+09</td>\n",
              "      <td>2019-03-07</td>\n",
              "      <td>2019-03-06</td>\n",
              "      <td>2019-03-07</td>\n",
              "      <td>2019-03-22</td>\n",
              "      <td>USD</td>\n",
              "      <td>RV</td>\n",
              "      <td>1.0</td>\n",
              "      <td>NaN</td>\n",
              "      <td>50710.15</td>\n",
              "      <td>2019-03-07</td>\n",
              "      <td>NAH4</td>\n",
              "      <td>1.928913e+09</td>\n",
              "      <td>0</td>\n",
              "    </tr>\n",
              "    <tr>\n",
              "      <th>...</th>\n",
              "      <td>...</td>\n",
              "      <td>...</td>\n",
              "      <td>...</td>\n",
              "      <td>...</td>\n",
              "      <td>...</td>\n",
              "      <td>...</td>\n",
              "      <td>...</td>\n",
              "      <td>...</td>\n",
              "      <td>...</td>\n",
              "      <td>...</td>\n",
              "      <td>...</td>\n",
              "      <td>...</td>\n",
              "      <td>...</td>\n",
              "      <td>...</td>\n",
              "      <td>...</td>\n",
              "      <td>...</td>\n",
              "      <td>...</td>\n",
              "      <td>...</td>\n",
              "      <td>...</td>\n",
              "    </tr>\n",
              "    <tr>\n",
              "      <th>46444</th>\n",
              "      <td>U001</td>\n",
              "      <td>CCU013</td>\n",
              "      <td>KRAFT F us</td>\n",
              "      <td>2019-03-01</td>\n",
              "      <td>2019.0</td>\n",
              "      <td>1.928636e+09</td>\n",
              "      <td>2019-01-20</td>\n",
              "      <td>2019-01-16</td>\n",
              "      <td>2019-01-20</td>\n",
              "      <td>2019-01-20</td>\n",
              "      <td>USD</td>\n",
              "      <td>RV</td>\n",
              "      <td>1.0</td>\n",
              "      <td>NaN</td>\n",
              "      <td>7465.45</td>\n",
              "      <td>2019-01-20</td>\n",
              "      <td>NAX2</td>\n",
              "      <td>1.928636e+09</td>\n",
              "      <td>0</td>\n",
              "    </tr>\n",
              "    <tr>\n",
              "      <th>46445</th>\n",
              "      <td>U001</td>\n",
              "      <td>0200759878</td>\n",
              "      <td>SA in</td>\n",
              "      <td>2019-03-11</td>\n",
              "      <td>2019.0</td>\n",
              "      <td>1.928831e+09</td>\n",
              "      <td>2019-02-22</td>\n",
              "      <td>2019-02-20</td>\n",
              "      <td>2019-02-22</td>\n",
              "      <td>2019-03-09</td>\n",
              "      <td>USD</td>\n",
              "      <td>RV</td>\n",
              "      <td>1.0</td>\n",
              "      <td>NaN</td>\n",
              "      <td>29096.77</td>\n",
              "      <td>2019-02-22</td>\n",
              "      <td>NAH4</td>\n",
              "      <td>1.928831e+09</td>\n",
              "      <td>0</td>\n",
              "    </tr>\n",
              "    <tr>\n",
              "      <th>46446</th>\n",
              "      <td>U001</td>\n",
              "      <td>0100031704</td>\n",
              "      <td>DELHAIZE corporation</td>\n",
              "      <td>2019-02-19</td>\n",
              "      <td>2019.0</td>\n",
              "      <td>1.928730e+09</td>\n",
              "      <td>2019-02-03</td>\n",
              "      <td>2019-02-03</td>\n",
              "      <td>2019-02-03</td>\n",
              "      <td>2019-02-18</td>\n",
              "      <td>USD</td>\n",
              "      <td>RV</td>\n",
              "      <td>1.0</td>\n",
              "      <td>NaN</td>\n",
              "      <td>105516.06</td>\n",
              "      <td>2019-02-03</td>\n",
              "      <td>NAA8</td>\n",
              "      <td>1.928730e+09</td>\n",
              "      <td>0</td>\n",
              "    </tr>\n",
              "    <tr>\n",
              "      <th>46447</th>\n",
              "      <td>U001</td>\n",
              "      <td>0200707822</td>\n",
              "      <td>PUBLI corp</td>\n",
              "      <td>2019-09-19</td>\n",
              "      <td>2019.0</td>\n",
              "      <td>1.929822e+09</td>\n",
              "      <td>2019-09-04</td>\n",
              "      <td>2019-09-04</td>\n",
              "      <td>2019-09-04</td>\n",
              "      <td>2019-09-19</td>\n",
              "      <td>USD</td>\n",
              "      <td>RV</td>\n",
              "      <td>1.0</td>\n",
              "      <td>NaN</td>\n",
              "      <td>21512.99</td>\n",
              "      <td>2019-09-04</td>\n",
              "      <td>NAA8</td>\n",
              "      <td>1.929822e+09</td>\n",
              "      <td>0</td>\n",
              "    </tr>\n",
              "    <tr>\n",
              "      <th>46448</th>\n",
              "      <td>U001</td>\n",
              "      <td>0200780825</td>\n",
              "      <td>SYSCO FO corporation</td>\n",
              "      <td>2020-01-23</td>\n",
              "      <td>2020.0</td>\n",
              "      <td>1.930363e+09</td>\n",
              "      <td>2020-01-07</td>\n",
              "      <td>2020-01-07</td>\n",
              "      <td>2020-01-07</td>\n",
              "      <td>2020-01-22</td>\n",
              "      <td>USD</td>\n",
              "      <td>RV</td>\n",
              "      <td>1.0</td>\n",
              "      <td>NaN</td>\n",
              "      <td>18346.57</td>\n",
              "      <td>2020-01-07</td>\n",
              "      <td>NAA8</td>\n",
              "      <td>1.930363e+09</td>\n",
              "      <td>0</td>\n",
              "    </tr>\n",
              "  </tbody>\n",
              "</table>\n",
              "<p>46449 rows × 19 columns</p>\n",
              "</div>"
            ],
            "text/plain": [
              "      business_code cust_number         name_customer clear_date  \\\n",
              "0              U001  0200020431        DEC associates 2020-03-02   \n",
              "1              U001  0200078795              H T H in 2019-04-10   \n",
              "2              U001  0200769623       WAL-MAR systems 2019-09-03   \n",
              "3              U001  0200769623   WAL-MAR corporation 2020-02-12   \n",
              "4              U001   200769623    WAL-MAR associates 2019-03-18   \n",
              "...             ...         ...                   ...        ...   \n",
              "46444          U001      CCU013            KRAFT F us 2019-03-01   \n",
              "46445          U001  0200759878                 SA in 2019-03-11   \n",
              "46446          U001  0100031704  DELHAIZE corporation 2019-02-19   \n",
              "46447          U001  0200707822            PUBLI corp 2019-09-19   \n",
              "46448          U001  0200780825  SYSCO FO corporation 2020-01-23   \n",
              "\n",
              "       buisness_year        doc_id posting_date document_create_date  \\\n",
              "0             2020.0  1.930548e+09   2020-02-20           2020-02-20   \n",
              "1             2019.0  1.929042e+09   2019-03-27           2019-03-27   \n",
              "2             2019.0  1.929767e+09   2019-08-21           2019-08-20   \n",
              "3             2020.0  1.930460e+09   2020-02-01           2020-01-30   \n",
              "4             2019.0  1.928913e+09   2019-03-07           2019-03-06   \n",
              "...              ...           ...          ...                  ...   \n",
              "46444         2019.0  1.928636e+09   2019-01-20           2019-01-16   \n",
              "46445         2019.0  1.928831e+09   2019-02-22           2019-02-20   \n",
              "46446         2019.0  1.928730e+09   2019-02-03           2019-02-03   \n",
              "46447         2019.0  1.929822e+09   2019-09-04           2019-09-04   \n",
              "46448         2020.0  1.930363e+09   2020-01-07           2020-01-07   \n",
              "\n",
              "      document_create_date.1 due_in_date invoice_currency document type  \\\n",
              "0                 2020-02-20  2020-03-10              USD            RV   \n",
              "1                 2019-03-27  2019-04-11              USD            RV   \n",
              "2                 2019-08-21  2019-09-05              USD            RV   \n",
              "3                 2020-02-01  2020-02-16              USD            RV   \n",
              "4                 2019-03-07  2019-03-22              USD            RV   \n",
              "...                      ...         ...              ...           ...   \n",
              "46444             2019-01-20  2019-01-20              USD            RV   \n",
              "46445             2019-02-22  2019-03-09              USD            RV   \n",
              "46446             2019-02-03  2019-02-18              USD            RV   \n",
              "46447             2019-09-04  2019-09-19              USD            RV   \n",
              "46448             2020-01-07  2020-01-22              USD            RV   \n",
              "\n",
              "       posting_id  area_business  total_open_amount baseline_create_date  \\\n",
              "0             1.0            NaN            3492.90           2020-02-16   \n",
              "1             1.0            NaN            4772.38           2019-03-27   \n",
              "2             1.0            NaN           15894.82           2019-08-21   \n",
              "3             1.0            NaN           55317.82           2020-02-01   \n",
              "4             1.0            NaN           50710.15           2019-03-07   \n",
              "...           ...            ...                ...                  ...   \n",
              "46444         1.0            NaN            7465.45           2019-01-20   \n",
              "46445         1.0            NaN           29096.77           2019-02-22   \n",
              "46446         1.0            NaN          105516.06           2019-02-03   \n",
              "46447         1.0            NaN           21512.99           2019-09-04   \n",
              "46448         1.0            NaN           18346.57           2020-01-07   \n",
              "\n",
              "      cust_payment_terms    invoice_id  isOpen  \n",
              "0                   NAM4  1.930548e+09       0  \n",
              "1                   NAA8  1.929042e+09       0  \n",
              "2                   NAH4  1.929767e+09       0  \n",
              "3                   NAH4  1.930460e+09       0  \n",
              "4                   NAH4  1.928913e+09       0  \n",
              "...                  ...           ...     ...  \n",
              "46444               NAX2  1.928636e+09       0  \n",
              "46445               NAH4  1.928831e+09       0  \n",
              "46446               NAA8  1.928730e+09       0  \n",
              "46447               NAA8  1.929822e+09       0  \n",
              "46448               NAA8  1.930363e+09       0  \n",
              "\n",
              "[46449 rows x 19 columns]"
            ]
          },
          "metadata": {
            "tags": []
          },
          "execution_count": 18
        }
      ]
    },
    {
      "cell_type": "markdown",
      "metadata": {
        "id": "cSB-OUQdToZA"
      },
      "source": [
        "modifying customer number values"
      ]
    },
    {
      "cell_type": "code",
      "metadata": {
        "id": "Cbc9VauvS1A0"
      },
      "source": [
        "a=[x for x in df['cust_number']]"
      ],
      "execution_count": null,
      "outputs": []
    },
    {
      "cell_type": "code",
      "metadata": {
        "id": "CmwSRWyOS1A1"
      },
      "source": [
        "for i in range(len(a)):\n",
        "  if(len(a[i])==9):\n",
        "    a[i]='0'+a[i]\n",
        "  if(len(a[i])==6 or len(a[i])==4):\n",
        "    s=a[i]\n",
        "    a[i]=s[2:]\n",
        "  if(len(a[i])==4):\n",
        "    s=a[i]\n",
        "    a[i]=s[2:]"
      ],
      "execution_count": null,
      "outputs": []
    },
    {
      "cell_type": "code",
      "metadata": {
        "id": "Exp6Q2Z8S1A1"
      },
      "source": [
        "b=[int(i) for i in a]"
      ],
      "execution_count": null,
      "outputs": []
    },
    {
      "cell_type": "code",
      "metadata": {
        "id": "YZ3CMQQZS1A1",
        "outputId": "4bcf57a1-fb0f-484e-8244-d31180b7a700"
      },
      "source": [
        "b"
      ],
      "execution_count": null,
      "outputs": [
        {
          "output_type": "execute_result",
          "data": {
            "text/plain": [
              "[200020431,\n",
              " 200078795,\n",
              " 200769623,\n",
              " 200769623,\n",
              " 200769623,\n",
              " 200769623,\n",
              " 200550425,\n",
              " 200900909,\n",
              " 200769623,\n",
              " 200744019,\n",
              " 200974851,\n",
              " 200727272,\n",
              " 200769623,\n",
              " 200769623,\n",
              " 2,\n",
              " 200769623,\n",
              " 200782001,\n",
              " 200744707,\n",
              " 200148860,\n",
              " 200769623,\n",
              " 200726979,\n",
              " 200705742,\n",
              " 200759878,\n",
              " 200769623,\n",
              " 200769623,\n",
              " 200780383,\n",
              " 200458131,\n",
              " 140104409,\n",
              " 200762301,\n",
              " 200759878,\n",
              " 200704045,\n",
              " 200936373,\n",
              " 200776463,\n",
              " 100001196,\n",
              " 200020431,\n",
              " 200769623,\n",
              " 200769623,\n",
              " 200732755,\n",
              " 200782669,\n",
              " 200739006,\n",
              " 200707822,\n",
              " 200769623,\n",
              " 200707822,\n",
              " 200769623,\n",
              " 200769623,\n",
              " 200762950,\n",
              " 200148860,\n",
              " 200772595,\n",
              " 140106209,\n",
              " 200704858,\n",
              " 200418007,\n",
              " 140105686,\n",
              " 200706844,\n",
              " 200186937,\n",
              " 200794332,\n",
              " 200900909,\n",
              " 200865666,\n",
              " 200762301,\n",
              " 200726979,\n",
              " 200705089,\n",
              " 200974851,\n",
              " 200726979,\n",
              " 200982290,\n",
              " 200900909,\n",
              " 200769623,\n",
              " 200486270,\n",
              " 100035709,\n",
              " 200526831,\n",
              " 140104440,\n",
              " 200762301,\n",
              " 200762301,\n",
              " 200769623,\n",
              " 200769623,\n",
              " 2,\n",
              " 200718130,\n",
              " 200769623,\n",
              " 200759878,\n",
              " 200974851,\n",
              " 100031704,\n",
              " 200769623,\n",
              " 140103592,\n",
              " 200769623,\n",
              " 200705742,\n",
              " 200793513,\n",
              " 2,\n",
              " 200769623,\n",
              " 100036039,\n",
              " 200769623,\n",
              " 200759878,\n",
              " 200792293,\n",
              " 140104225,\n",
              " 200803720,\n",
              " 200769623,\n",
              " 200793568,\n",
              " 200519201,\n",
              " 200769623,\n",
              " 200724999,\n",
              " 200705742,\n",
              " 200794332,\n",
              " 200705742,\n",
              " 200726979,\n",
              " 200743996,\n",
              " 200759878,\n",
              " 200359814,\n",
              " 200769623,\n",
              " 140106372,\n",
              " 200769623,\n",
              " 100031704,\n",
              " 200714710,\n",
              " 200752302,\n",
              " 200418007,\n",
              " 200762301,\n",
              " 200943275,\n",
              " 100008001,\n",
              " 200726979,\n",
              " 140106434,\n",
              " 200764795,\n",
              " 200799367,\n",
              " 200705742,\n",
              " 200729942,\n",
              " 200705742,\n",
              " 200726979,\n",
              " 200705742,\n",
              " 200764795,\n",
              " 200434439,\n",
              " 2,\n",
              " 200744019,\n",
              " 200769623,\n",
              " 200769623,\n",
              " 200726979,\n",
              " 200705742,\n",
              " 200707822,\n",
              " 200721222,\n",
              " 200799367,\n",
              " 140106408,\n",
              " 200769623,\n",
              " 200778870,\n",
              " 200772670,\n",
              " 2,\n",
              " 200777735,\n",
              " 200769623,\n",
              " 200744019,\n",
              " 140104340,\n",
              " 200769623,\n",
              " 200769623,\n",
              " 200759878,\n",
              " 13,\n",
              " 200769623,\n",
              " 200769623,\n",
              " 140104225,\n",
              " 200772670,\n",
              " 200769623,\n",
              " 13,\n",
              " 140104225,\n",
              " 200416837,\n",
              " 200331749,\n",
              " 200707822,\n",
              " 200750051,\n",
              " 200772670,\n",
              " 140105847,\n",
              " 200793568,\n",
              " 200772595,\n",
              " 200744019,\n",
              " 200786288,\n",
              " 200714710,\n",
              " 100001196,\n",
              " 13,\n",
              " 200759878,\n",
              " 200769623,\n",
              " 200020431,\n",
              " 200769623,\n",
              " 200726979,\n",
              " 200978592,\n",
              " 200739386,\n",
              " 200744019,\n",
              " 140104475,\n",
              " 200152991,\n",
              " 200776463,\n",
              " 200803720,\n",
              " 200747369,\n",
              " 200704045,\n",
              " 100031704,\n",
              " 200769623,\n",
              " 200744019,\n",
              " 200772670,\n",
              " 200779906,\n",
              " 200769623,\n",
              " 200093491,\n",
              " 200397526,\n",
              " 100030964,\n",
              " 200769623,\n",
              " 200769623,\n",
              " 200418007,\n",
              " 200779051,\n",
              " 200700919,\n",
              " 200769623,\n",
              " 200353024,\n",
              " 200769623,\n",
              " 200761734,\n",
              " 200772670,\n",
              " 200793830,\n",
              " 200729942,\n",
              " 200101621,\n",
              " 200759878,\n",
              " 200799367,\n",
              " 140103409,\n",
              " 13,\n",
              " 200726979,\n",
              " 200697207,\n",
              " 200769556,\n",
              " 200769623,\n",
              " 200744019,\n",
              " 200769623,\n",
              " 200769623,\n",
              " 200718164,\n",
              " 200779906,\n",
              " 200769623,\n",
              " 200020431,\n",
              " 200797452,\n",
              " 200769623,\n",
              " 200769623,\n",
              " 200900909,\n",
              " 200769623,\n",
              " 200974851,\n",
              " 200781803,\n",
              " 200705742,\n",
              " 200769623,\n",
              " 200806580,\n",
              " 200895843,\n",
              " 200769623,\n",
              " 200803720,\n",
              " 200726979,\n",
              " 200793568,\n",
              " 140104429,\n",
              " 200900909,\n",
              " 100031704,\n",
              " 200769623,\n",
              " 200769623,\n",
              " 140104234,\n",
              " 200792734,\n",
              " 200778870,\n",
              " 200744019,\n",
              " 200726979,\n",
              " 200794332,\n",
              " 200982294,\n",
              " 200748108,\n",
              " 200777735,\n",
              " 200793568,\n",
              " 200704045,\n",
              " 200705742,\n",
              " 200759878,\n",
              " 200769623,\n",
              " 200769623,\n",
              " 200769623,\n",
              " 200729942,\n",
              " 200148860,\n",
              " 200230690,\n",
              " 200769623,\n",
              " 140106181,\n",
              " 200769623,\n",
              " 200707822,\n",
              " 200466603,\n",
              " 200707822,\n",
              " 200771157,\n",
              " 200769623,\n",
              " 200769623,\n",
              " 200761734,\n",
              " 140106271,\n",
              " 200707822,\n",
              " 200705742,\n",
              " 200592182,\n",
              " 200803720,\n",
              " 100030964,\n",
              " 200744019,\n",
              " 140104340,\n",
              " 200772670,\n",
              " 200704858,\n",
              " 140104409,\n",
              " 200741174,\n",
              " 200771157,\n",
              " 200706844,\n",
              " 200152991,\n",
              " 200439158,\n",
              " 200769623,\n",
              " 200769623,\n",
              " 200229974,\n",
              " 200769623,\n",
              " 200726979,\n",
              " 200148860,\n",
              " 200772670,\n",
              " 200782669,\n",
              " 200769623,\n",
              " 200769623,\n",
              " 200759878,\n",
              " 200776463,\n",
              " 200769623,\n",
              " 200764795,\n",
              " 200726979,\n",
              " 200769623,\n",
              " 200769623,\n",
              " 200726979,\n",
              " 200705742,\n",
              " 200726979,\n",
              " 200772595,\n",
              " 100001196,\n",
              " 2,\n",
              " 200705742,\n",
              " 200797984,\n",
              " 200779111,\n",
              " 100054980,\n",
              " 200769623,\n",
              " 200769623,\n",
              " 100033439,\n",
              " 200794332,\n",
              " 200726979,\n",
              " 200769623,\n",
              " 200769623,\n",
              " 200707822,\n",
              " 200778998,\n",
              " 200769623,\n",
              " 200726979,\n",
              " 200974851,\n",
              " 200726979,\n",
              " 200149567,\n",
              " 200706844,\n",
              " 200769623,\n",
              " 100031704,\n",
              " 200752302,\n",
              " 200769623,\n",
              " 200592182,\n",
              " 200769623,\n",
              " 200148860,\n",
              " 200769623,\n",
              " 100031483,\n",
              " 200780383,\n",
              " 140103480,\n",
              " 200707741,\n",
              " 200756072,\n",
              " 200778870,\n",
              " 13,\n",
              " 200744019,\n",
              " 200769623,\n",
              " 200942148,\n",
              " 200776463,\n",
              " 200769623,\n",
              " 140104240,\n",
              " 140106249,\n",
              " 200769623,\n",
              " 200772670,\n",
              " 200029010,\n",
              " 200769623,\n",
              " 200708411,\n",
              " 200799367,\n",
              " 200353024,\n",
              " 200780825,\n",
              " 200744019,\n",
              " 200769623,\n",
              " 140105686,\n",
              " 200763814,\n",
              " 200769623,\n",
              " 200020431,\n",
              " 200063296,\n",
              " 200772670,\n",
              " 200707822,\n",
              " 200705742,\n",
              " 200148860,\n",
              " 200752302,\n",
              " 200799367,\n",
              " 200726979,\n",
              " 200148860,\n",
              " 200769623,\n",
              " 200762301,\n",
              " 140106473,\n",
              " 200769623,\n",
              " 200748108,\n",
              " 200756072,\n",
              " 200769623,\n",
              " 200769623,\n",
              " 200769623,\n",
              " 2,\n",
              " 200943275,\n",
              " 100054993,\n",
              " 200769623,\n",
              " 200974851,\n",
              " 200769623,\n",
              " 200704858,\n",
              " 200726979,\n",
              " 200707822,\n",
              " 200769623,\n",
              " 200743123,\n",
              " 200769623,\n",
              " 200769623,\n",
              " 200337148,\n",
              " 200743996,\n",
              " 140104429,\n",
              " 200705089,\n",
              " 200769623,\n",
              " 200743123,\n",
              " 200772670,\n",
              " 200781803,\n",
              " 200769623,\n",
              " 200466603,\n",
              " 200764795,\n",
              " 200705742,\n",
              " 200769623,\n",
              " 200707822,\n",
              " 200777735,\n",
              " 200726979,\n",
              " 200726979,\n",
              " 0,\n",
              " 200726979,\n",
              " 200763152,\n",
              " 200794332,\n",
              " 200762301,\n",
              " 200729942,\n",
              " 200418007,\n",
              " 200794332,\n",
              " 200704858,\n",
              " 200762301,\n",
              " 200769623,\n",
              " 200592182,\n",
              " 100031704,\n",
              " 200769623,\n",
              " 200132251,\n",
              " 200769623,\n",
              " 200744019,\n",
              " 200769623,\n",
              " 200705742,\n",
              " 200759878,\n",
              " 200794332,\n",
              " 100035581,\n",
              " 200769623,\n",
              " 200705742,\n",
              " 140118172,\n",
              " 200769623,\n",
              " 200803720,\n",
              " 200769623,\n",
              " 200762301,\n",
              " 200704045,\n",
              " 200769623,\n",
              " 13,\n",
              " 200797452,\n",
              " 200769623,\n",
              " 200769623,\n",
              " 200020431,\n",
              " 200763814,\n",
              " 13,\n",
              " 200020431,\n",
              " 200881076,\n",
              " 200769623,\n",
              " 200772595,\n",
              " 200794332,\n",
              " 200794332,\n",
              " 200771157,\n",
              " 200761734,\n",
              " 200769623,\n",
              " 200825139,\n",
              " 13,\n",
              " 200729290,\n",
              " 200769623,\n",
              " 200704858,\n",
              " 200705742,\n",
              " 200752302,\n",
              " 200416837,\n",
              " 200793568,\n",
              " 200792734,\n",
              " 200799420,\n",
              " 200762301,\n",
              " 100031686,\n",
              " 140104429,\n",
              " 140104285,\n",
              " 200776463,\n",
              " 200726979,\n",
              " 200777735,\n",
              " 200780849,\n",
              " 200799367,\n",
              " 200794332,\n",
              " 200331749,\n",
              " 200974851,\n",
              " 200794332,\n",
              " 200712105,\n",
              " 200703398,\n",
              " 200794332,\n",
              " 200794332,\n",
              " 140104440,\n",
              " 200769623,\n",
              " 140105686,\n",
              " 200769623,\n",
              " 200769623,\n",
              " 140106408,\n",
              " 200078795,\n",
              " 200726979,\n",
              " 200794332,\n",
              " 200763152,\n",
              " 200793830,\n",
              " 200719526,\n",
              " 140104423,\n",
              " 200793513,\n",
              " 200769623,\n",
              " 200707822,\n",
              " 200769623,\n",
              " 200772670,\n",
              " 200726979,\n",
              " 100035504,\n",
              " 200794332,\n",
              " 100030443,\n",
              " 200780383,\n",
              " 200980828,\n",
              " 200378414,\n",
              " 200769623,\n",
              " 200706844,\n",
              " 200792293,\n",
              " 200756072,\n",
              " 200762301,\n",
              " 200769623,\n",
              " 200782001,\n",
              " 200353024,\n",
              " 200769623,\n",
              " 140104429,\n",
              " 200780383,\n",
              " 140106408,\n",
              " 200769623,\n",
              " 100015557,\n",
              " 200705742,\n",
              " 200772670,\n",
              " 200714710,\n",
              " 140104429,\n",
              " 200769623,\n",
              " 200706844,\n",
              " 200741831,\n",
              " 140106408,\n",
              " 200769623,\n",
              " 200769623,\n",
              " 200756072,\n",
              " 200129450,\n",
              " 200726979,\n",
              " 200729942,\n",
              " 200752302,\n",
              " 200706844,\n",
              " 13,\n",
              " 200704858,\n",
              " 200705742,\n",
              " 200020431,\n",
              " 200337148,\n",
              " 200772670,\n",
              " 200769623,\n",
              " 200769623,\n",
              " 200769623,\n",
              " 200794332,\n",
              " 200466603,\n",
              " 200799367,\n",
              " 200769623,\n",
              " 200779051,\n",
              " 13,\n",
              " 200769623,\n",
              " 200744019,\n",
              " 200915438,\n",
              " 200769623,\n",
              " 200742521,\n",
              " 100010265,\n",
              " 140105785,\n",
              " 100004536,\n",
              " 200466603,\n",
              " 200704858,\n",
              " 200759878,\n",
              " 200416837,\n",
              " 200759878,\n",
              " 200936373,\n",
              " 140106293,\n",
              " 200186937,\n",
              " 100031704,\n",
              " 200794332,\n",
              " 200721222,\n",
              " 200794332,\n",
              " 200769623,\n",
              " 200769623,\n",
              " 200769623,\n",
              " 200943423,\n",
              " 200956366,\n",
              " 200726979,\n",
              " 200936373,\n",
              " 200793568,\n",
              " 140101591,\n",
              " 200700919,\n",
              " 200744019,\n",
              " 200704858,\n",
              " 200725421,\n",
              " 140103592,\n",
              " 200014556,\n",
              " 13,\n",
              " 200769623,\n",
              " 200706844,\n",
              " 100028450,\n",
              " 200780383,\n",
              " 200782001,\n",
              " 200775094,\n",
              " 200418007,\n",
              " 200769623,\n",
              " 200759878,\n",
              " 200759878,\n",
              " 200803720,\n",
              " 200769623,\n",
              " 200466603,\n",
              " 200230690,\n",
              " 200769623,\n",
              " 200769623,\n",
              " 200315290,\n",
              " 200754118,\n",
              " 200769623,\n",
              " 200416837,\n",
              " 200769623,\n",
              " 200750051,\n",
              " 200769623,\n",
              " 200772670,\n",
              " 200707822,\n",
              " 200331749,\n",
              " 200759878,\n",
              " 140104409,\n",
              " 200769623,\n",
              " 200786288,\n",
              " 200803720,\n",
              " 200769623,\n",
              " 200397082,\n",
              " 200769623,\n",
              " 100024776,\n",
              " 200769623,\n",
              " 200793568,\n",
              " 200418007,\n",
              " 100015455,\n",
              " 200762301,\n",
              " 200797452,\n",
              " 200515231,\n",
              " 140104409,\n",
              " 200769623,\n",
              " 200769623,\n",
              " 13,\n",
              " 200744019,\n",
              " 200769623,\n",
              " 200769623,\n",
              " 200765011,\n",
              " 200769623,\n",
              " 200780383,\n",
              " 200769623,\n",
              " 200718130,\n",
              " 200799367,\n",
              " 200803720,\n",
              " 140105847,\n",
              " 200714710,\n",
              " 200743123,\n",
              " 200769623,\n",
              " 200290370,\n",
              " 0,\n",
              " 200714710,\n",
              " 200762301,\n",
              " 200769623,\n",
              " 200726979,\n",
              " 200793568,\n",
              " 200769623,\n",
              " 200782001,\n",
              " 140104409,\n",
              " 200786288,\n",
              " 200707822,\n",
              " 200707005,\n",
              " 200759878,\n",
              " 200793568,\n",
              " 200112978,\n",
              " 200416837,\n",
              " 200794332,\n",
              " 200769623,\n",
              " 200729290,\n",
              " 140104429,\n",
              " 140104229,\n",
              " 200936373,\n",
              " 200794332,\n",
              " 200900909,\n",
              " 200739534,\n",
              " 200793568,\n",
              " 200726979,\n",
              " 200769623,\n",
              " 200726979,\n",
              " 200794332,\n",
              " 200769623,\n",
              " 200020431,\n",
              " 200780383,\n",
              " 200875006,\n",
              " 200769623,\n",
              " 140105357,\n",
              " 200769623,\n",
              " 200752302,\n",
              " 200820380,\n",
              " 200387798,\n",
              " 200736337,\n",
              " 200920735,\n",
              " 200769623,\n",
              " 2,\n",
              " 200769623,\n",
              " 200701040,\n",
              " 200705372,\n",
              " 200769623,\n",
              " 200772670,\n",
              " 200726979,\n",
              " 200704045,\n",
              " 200769623,\n",
              " 200769623,\n",
              " 140106231,\n",
              " 200769623,\n",
              " 200759878,\n",
              " 140106372,\n",
              " 200741174,\n",
              " 200729942,\n",
              " 200762301,\n",
              " 200759878,\n",
              " 200726979,\n",
              " 200847305,\n",
              " 140104409,\n",
              " 100031704,\n",
              " 200769623,\n",
              " 100031704,\n",
              " 200744019,\n",
              " 140106408,\n",
              " 200759878,\n",
              " 140104340,\n",
              " 200152991,\n",
              " 200769623,\n",
              " 200772670,\n",
              " 200900909,\n",
              " 200895843,\n",
              " 200726979,\n",
              " 200519201,\n",
              " 200782001,\n",
              " 200797452,\n",
              " 140104409,\n",
              " 200148860,\n",
              " 200707741,\n",
              " 200984794,\n",
              " 200769623,\n",
              " 200712187,\n",
              " 200519201,\n",
              " 200769623,\n",
              " 200353024,\n",
              " 200571849,\n",
              " 200772595,\n",
              " 100004744,\n",
              " 200769623,\n",
              " 140104409,\n",
              " 200769623,\n",
              " 200705600,\n",
              " 200803720,\n",
              " 200331749,\n",
              " 200790710,\n",
              " 200726979,\n",
              " 140104472,\n",
              " 200769623,\n",
              " 200780383,\n",
              " 200769623,\n",
              " 140104409,\n",
              " 2,\n",
              " 200744019,\n",
              " 140104429,\n",
              " 200943275,\n",
              " 200769623,\n",
              " 200331749,\n",
              " 140106181,\n",
              " 200769623,\n",
              " 140106408,\n",
              " 200353024,\n",
              " 200707822,\n",
              " 200756072,\n",
              " 200704858,\n",
              " 200078795,\n",
              " 200759878,\n",
              " 200854853,\n",
              " 140105785,\n",
              " 200793568,\n",
              " 200772670,\n",
              " 200418007,\n",
              " 200769623,\n",
              " 200705742,\n",
              " 200793122,\n",
              " 200744019,\n",
              " 200799367,\n",
              " 200803720,\n",
              " 200943275,\n",
              " 200792734,\n",
              " 200732755,\n",
              " 200743592,\n",
              " 200769623,\n",
              " 200712105,\n",
              " 200769623,\n",
              " 200756072,\n",
              " 200705742,\n",
              " 140104429,\n",
              " 200622385,\n",
              " 200769623,\n",
              " 200416837,\n",
              " 200769623,\n",
              " 200794332,\n",
              " 140106408,\n",
              " 200769623,\n",
              " 200148860,\n",
              " 200762950,\n",
              " 200769623,\n",
              " 200769623,\n",
              " 2,\n",
              " 200704858,\n",
              " 200750051,\n",
              " 200726979,\n",
              " 200756072,\n",
              " 100030250,\n",
              " 200704045,\n",
              " 200769623,\n",
              " 200762301,\n",
              " 200434439,\n",
              " 200794332,\n",
              " 200769623,\n",
              " 200769623,\n",
              " 200780383,\n",
              " 200777735,\n",
              " 140104340,\n",
              " 200759878,\n",
              " 200769623,\n",
              " 200769623,\n",
              " 200769623,\n",
              " 200793568,\n",
              " 200769623,\n",
              " 100031704,\n",
              " 200803720,\n",
              " 200820380,\n",
              " 200726979,\n",
              " 200706844,\n",
              " 100053090,\n",
              " 200769623,\n",
              " 200793568,\n",
              " 200416837,\n",
              " 200416837,\n",
              " 200792734,\n",
              " 200762301,\n",
              " 100025721,\n",
              " 200974851,\n",
              " 200705742,\n",
              " 200778870,\n",
              " 200795490,\n",
              " 200769623,\n",
              " 200769623,\n",
              " 13,\n",
              " 200762301,\n",
              " 200416837,\n",
              " 200794332,\n",
              " 200769623,\n",
              " 200729942,\n",
              " 200769623,\n",
              " 100031704,\n",
              " 200744019,\n",
              " 200778998,\n",
              " 200416837,\n",
              " 200777735,\n",
              " 200769623,\n",
              " 200749225,\n",
              " 200769623,\n",
              " 200739534,\n",
              " 200726979,\n",
              " 200759878,\n",
              " 200794332,\n",
              " 200769623,\n",
              " 140104429,\n",
              " 200290370,\n",
              " 200769623,\n",
              " 200571849,\n",
              " 0,\n",
              " 200794332,\n",
              " 200519201,\n",
              " 2,\n",
              " 200769623,\n",
              " 200769623,\n",
              " 200769623,\n",
              " 200723794,\n",
              " 200769623,\n",
              " 200769623,\n",
              " 200744019,\n",
              " 200759878,\n",
              " 200752302,\n",
              " 200769623,\n",
              " 200769623,\n",
              " 200416837,\n",
              " 200780383,\n",
              " 200734065,\n",
              " 200741174,\n",
              " 200126819,\n",
              " 140104409,\n",
              " 200726979,\n",
              " 200764795,\n",
              " 200769623,\n",
              " 200756811,\n",
              " 200772595,\n",
              " 200762301,\n",
              " 200705089,\n",
              " 200769623,\n",
              " 200743996,\n",
              " 200353024,\n",
              " 200726979,\n",
              " 200780383,\n",
              " 200769623,\n",
              " 200782669,\n",
              " 200705742,\n",
              " 200707822,\n",
              " 200724999,\n",
              " 200769623,\n",
              " 200755701,\n",
              " 200718130,\n",
              " 200769623,\n",
              " 200891601,\n",
              " 200794332,\n",
              " 200769623,\n",
              " 200795490,\n",
              " 200762301,\n",
              " 200707822,\n",
              " 200353024,\n",
              " 200764795,\n",
              " 200726979,\n",
              " 200769623,\n",
              " 200705742,\n",
              " 100031704,\n",
              " 200791792,\n",
              " 200936373,\n",
              " 200763814,\n",
              " 200711029,\n",
              " 200771157,\n",
              " 200794332,\n",
              " 200762301,\n",
              " 200769623,\n",
              " 200762301,\n",
              " 200729290,\n",
              " 200769623,\n",
              " 200729290,\n",
              " 200769623,\n",
              " 100031164,\n",
              " 200764795,\n",
              " 200772670,\n",
              " 200126819,\n",
              " 200704045,\n",
              " 200704858,\n",
              " 200769623,\n",
              " 200762301,\n",
              " 200706844,\n",
              " 200769623,\n",
              " 200762301,\n",
              " 100031704,\n",
              " 200571849,\n",
              " 200742521,\n",
              " 200458131,\n",
              " 200508557,\n",
              " 200029010,\n",
              " 200778870,\n",
              " 200782669,\n",
              " 200704858,\n",
              " 200769623,\n",
              " 200780383,\n",
              " 100028210,\n",
              " 200769623,\n",
              " 200020431,\n",
              " 200769623,\n",
              " 200794332,\n",
              " 200816950,\n",
              " 200353024,\n",
              " 200769623,\n",
              " 140105847,\n",
              " 200769623,\n",
              " 13,\n",
              " 200974851,\n",
              " 200769623,\n",
              " 200769623,\n",
              " 200337148,\n",
              " 200705742,\n",
              " 200769623,\n",
              " 140104240,\n",
              " 200799538,\n",
              " 200697207,\n",
              " 200331749,\n",
              " 100051668,\n",
              " 200705089,\n",
              " 200761734,\n",
              " 200726979,\n",
              " 200306844,\n",
              " 200771157,\n",
              " 200707822,\n",
              " 200117492,\n",
              " 200769623,\n",
              " 200337148,\n",
              " 200714710,\n",
              " 200759878,\n",
              " 200610381,\n",
              " 200769623,\n",
              " 200769623,\n",
              " 140103480,\n",
              " 200561861,\n",
              " 200677269,\n",
              " 200152991,\n",
              " 200769623,\n",
              " 200696090,\n",
              " 200729290,\n",
              " ...]"
            ]
          },
          "metadata": {
            "tags": []
          },
          "execution_count": 26
        }
      ]
    },
    {
      "cell_type": "code",
      "metadata": {
        "id": "YO0KQelLS1A2"
      },
      "source": [
        "df['cust_number']=b"
      ],
      "execution_count": null,
      "outputs": []
    },
    {
      "cell_type": "markdown",
      "metadata": {
        "id": "HTyU_kuoTu_D"
      },
      "source": [
        "checking for duplicates"
      ]
    },
    {
      "cell_type": "code",
      "metadata": {
        "id": "3Vj0bjX2S1A2",
        "outputId": "1307310b-d2c1-4103-9848-41ecb42b4122"
      },
      "source": [
        "df[df['name_customer']=='WEGMAN corp']"
      ],
      "execution_count": null,
      "outputs": [
        {
          "output_type": "execute_result",
          "data": {
            "text/html": [
              "<div>\n",
              "<style scoped>\n",
              "    .dataframe tbody tr th:only-of-type {\n",
              "        vertical-align: middle;\n",
              "    }\n",
              "\n",
              "    .dataframe tbody tr th {\n",
              "        vertical-align: top;\n",
              "    }\n",
              "\n",
              "    .dataframe thead th {\n",
              "        text-align: right;\n",
              "    }\n",
              "</style>\n",
              "<table border=\"1\" class=\"dataframe\">\n",
              "  <thead>\n",
              "    <tr style=\"text-align: right;\">\n",
              "      <th></th>\n",
              "      <th>business_code</th>\n",
              "      <th>cust_number</th>\n",
              "      <th>name_customer</th>\n",
              "      <th>clear_date</th>\n",
              "      <th>buisness_year</th>\n",
              "      <th>doc_id</th>\n",
              "      <th>posting_date</th>\n",
              "      <th>document_create_date</th>\n",
              "      <th>document_create_date.1</th>\n",
              "      <th>due_in_date</th>\n",
              "      <th>invoice_currency</th>\n",
              "      <th>document type</th>\n",
              "      <th>posting_id</th>\n",
              "      <th>area_business</th>\n",
              "      <th>total_open_amount</th>\n",
              "      <th>baseline_create_date</th>\n",
              "      <th>cust_payment_terms</th>\n",
              "      <th>invoice_id</th>\n",
              "      <th>isOpen</th>\n",
              "    </tr>\n",
              "  </thead>\n",
              "  <tbody>\n",
              "    <tr>\n",
              "      <th>3314</th>\n",
              "      <td>U001</td>\n",
              "      <td>200711029</td>\n",
              "      <td>WEGMAN corp</td>\n",
              "      <td>2019-04-03</td>\n",
              "      <td>2019.0</td>\n",
              "      <td>1.928990e+09</td>\n",
              "      <td>2019-03-19</td>\n",
              "      <td>2019-03-19</td>\n",
              "      <td>2019-03-19</td>\n",
              "      <td>2019-04-03</td>\n",
              "      <td>USD</td>\n",
              "      <td>RV</td>\n",
              "      <td>1.0</td>\n",
              "      <td>NaN</td>\n",
              "      <td>86275.29</td>\n",
              "      <td>2019-03-19</td>\n",
              "      <td>NAA8</td>\n",
              "      <td>1.928990e+09</td>\n",
              "      <td>0</td>\n",
              "    </tr>\n",
              "    <tr>\n",
              "      <th>7514</th>\n",
              "      <td>U001</td>\n",
              "      <td>200711029</td>\n",
              "      <td>WEGMAN corp</td>\n",
              "      <td>2019-11-12</td>\n",
              "      <td>2019.0</td>\n",
              "      <td>1.930054e+09</td>\n",
              "      <td>2019-10-25</td>\n",
              "      <td>2019-10-26</td>\n",
              "      <td>2019-10-25</td>\n",
              "      <td>2019-11-09</td>\n",
              "      <td>USD</td>\n",
              "      <td>RV</td>\n",
              "      <td>1.0</td>\n",
              "      <td>NaN</td>\n",
              "      <td>18180.33</td>\n",
              "      <td>2019-10-25</td>\n",
              "      <td>NAA8</td>\n",
              "      <td>1.930054e+09</td>\n",
              "      <td>0</td>\n",
              "    </tr>\n",
              "    <tr>\n",
              "      <th>18665</th>\n",
              "      <td>U001</td>\n",
              "      <td>200711029</td>\n",
              "      <td>WEGMAN corp</td>\n",
              "      <td>2019-05-28</td>\n",
              "      <td>2019.0</td>\n",
              "      <td>1.929305e+09</td>\n",
              "      <td>2019-05-13</td>\n",
              "      <td>2019-05-13</td>\n",
              "      <td>2019-05-13</td>\n",
              "      <td>2019-05-28</td>\n",
              "      <td>USD</td>\n",
              "      <td>RV</td>\n",
              "      <td>1.0</td>\n",
              "      <td>NaN</td>\n",
              "      <td>31201.49</td>\n",
              "      <td>2019-05-13</td>\n",
              "      <td>NAA8</td>\n",
              "      <td>1.929305e+09</td>\n",
              "      <td>0</td>\n",
              "    </tr>\n",
              "    <tr>\n",
              "      <th>36190</th>\n",
              "      <td>U001</td>\n",
              "      <td>200711029</td>\n",
              "      <td>WEGMAN corp</td>\n",
              "      <td>2020-02-10</td>\n",
              "      <td>2020.0</td>\n",
              "      <td>1.930441e+09</td>\n",
              "      <td>2020-01-24</td>\n",
              "      <td>2020-01-25</td>\n",
              "      <td>2020-01-24</td>\n",
              "      <td>2020-02-08</td>\n",
              "      <td>USD</td>\n",
              "      <td>RV</td>\n",
              "      <td>1.0</td>\n",
              "      <td>NaN</td>\n",
              "      <td>62648.77</td>\n",
              "      <td>2020-01-24</td>\n",
              "      <td>NAA8</td>\n",
              "      <td>1.930441e+09</td>\n",
              "      <td>0</td>\n",
              "    </tr>\n",
              "    <tr>\n",
              "      <th>42664</th>\n",
              "      <td>U001</td>\n",
              "      <td>200711029</td>\n",
              "      <td>WEGMAN corp</td>\n",
              "      <td>2019-12-26</td>\n",
              "      <td>2019.0</td>\n",
              "      <td>1.930261e+09</td>\n",
              "      <td>2019-12-11</td>\n",
              "      <td>2019-12-11</td>\n",
              "      <td>2019-12-11</td>\n",
              "      <td>2019-12-26</td>\n",
              "      <td>USD</td>\n",
              "      <td>RV</td>\n",
              "      <td>1.0</td>\n",
              "      <td>NaN</td>\n",
              "      <td>24207.72</td>\n",
              "      <td>2019-12-11</td>\n",
              "      <td>NAA8</td>\n",
              "      <td>1.930261e+09</td>\n",
              "      <td>0</td>\n",
              "    </tr>\n",
              "    <tr>\n",
              "      <th>43699</th>\n",
              "      <td>U001</td>\n",
              "      <td>200711029</td>\n",
              "      <td>WEGMAN corp</td>\n",
              "      <td>2019-12-30</td>\n",
              "      <td>2019.0</td>\n",
              "      <td>1.930281e+09</td>\n",
              "      <td>2019-12-13</td>\n",
              "      <td>2019-12-14</td>\n",
              "      <td>2019-12-13</td>\n",
              "      <td>2019-12-28</td>\n",
              "      <td>USD</td>\n",
              "      <td>RV</td>\n",
              "      <td>1.0</td>\n",
              "      <td>NaN</td>\n",
              "      <td>71313.95</td>\n",
              "      <td>2019-12-13</td>\n",
              "      <td>NAA8</td>\n",
              "      <td>1.930281e+09</td>\n",
              "      <td>0</td>\n",
              "    </tr>\n",
              "    <tr>\n",
              "      <th>44691</th>\n",
              "      <td>U001</td>\n",
              "      <td>200711029</td>\n",
              "      <td>WEGMAN corp</td>\n",
              "      <td>2019-11-12</td>\n",
              "      <td>2019.0</td>\n",
              "      <td>1.930036e+09</td>\n",
              "      <td>2019-10-20</td>\n",
              "      <td>2019-10-21</td>\n",
              "      <td>2019-10-20</td>\n",
              "      <td>2019-11-04</td>\n",
              "      <td>USD</td>\n",
              "      <td>RV</td>\n",
              "      <td>1.0</td>\n",
              "      <td>NaN</td>\n",
              "      <td>7634.56</td>\n",
              "      <td>2019-10-20</td>\n",
              "      <td>NAA8</td>\n",
              "      <td>1.930036e+09</td>\n",
              "      <td>0</td>\n",
              "    </tr>\n",
              "    <tr>\n",
              "      <th>45679</th>\n",
              "      <td>U001</td>\n",
              "      <td>200711029</td>\n",
              "      <td>WEGMAN corp</td>\n",
              "      <td>2019-03-01</td>\n",
              "      <td>2019.0</td>\n",
              "      <td>1.928780e+09</td>\n",
              "      <td>2019-02-14</td>\n",
              "      <td>2019-02-11</td>\n",
              "      <td>2019-02-14</td>\n",
              "      <td>2019-03-01</td>\n",
              "      <td>USD</td>\n",
              "      <td>RV</td>\n",
              "      <td>1.0</td>\n",
              "      <td>NaN</td>\n",
              "      <td>4317.04</td>\n",
              "      <td>2019-02-14</td>\n",
              "      <td>NAA8</td>\n",
              "      <td>1.928780e+09</td>\n",
              "      <td>0</td>\n",
              "    </tr>\n",
              "  </tbody>\n",
              "</table>\n",
              "</div>"
            ],
            "text/plain": [
              "      business_code  cust_number name_customer clear_date  buisness_year  \\\n",
              "3314           U001    200711029   WEGMAN corp 2019-04-03         2019.0   \n",
              "7514           U001    200711029   WEGMAN corp 2019-11-12         2019.0   \n",
              "18665          U001    200711029   WEGMAN corp 2019-05-28         2019.0   \n",
              "36190          U001    200711029   WEGMAN corp 2020-02-10         2020.0   \n",
              "42664          U001    200711029   WEGMAN corp 2019-12-26         2019.0   \n",
              "43699          U001    200711029   WEGMAN corp 2019-12-30         2019.0   \n",
              "44691          U001    200711029   WEGMAN corp 2019-11-12         2019.0   \n",
              "45679          U001    200711029   WEGMAN corp 2019-03-01         2019.0   \n",
              "\n",
              "             doc_id posting_date document_create_date document_create_date.1  \\\n",
              "3314   1.928990e+09   2019-03-19           2019-03-19             2019-03-19   \n",
              "7514   1.930054e+09   2019-10-25           2019-10-26             2019-10-25   \n",
              "18665  1.929305e+09   2019-05-13           2019-05-13             2019-05-13   \n",
              "36190  1.930441e+09   2020-01-24           2020-01-25             2020-01-24   \n",
              "42664  1.930261e+09   2019-12-11           2019-12-11             2019-12-11   \n",
              "43699  1.930281e+09   2019-12-13           2019-12-14             2019-12-13   \n",
              "44691  1.930036e+09   2019-10-20           2019-10-21             2019-10-20   \n",
              "45679  1.928780e+09   2019-02-14           2019-02-11             2019-02-14   \n",
              "\n",
              "      due_in_date invoice_currency document type  posting_id  area_business  \\\n",
              "3314   2019-04-03              USD            RV         1.0            NaN   \n",
              "7514   2019-11-09              USD            RV         1.0            NaN   \n",
              "18665  2019-05-28              USD            RV         1.0            NaN   \n",
              "36190  2020-02-08              USD            RV         1.0            NaN   \n",
              "42664  2019-12-26              USD            RV         1.0            NaN   \n",
              "43699  2019-12-28              USD            RV         1.0            NaN   \n",
              "44691  2019-11-04              USD            RV         1.0            NaN   \n",
              "45679  2019-03-01              USD            RV         1.0            NaN   \n",
              "\n",
              "       total_open_amount baseline_create_date cust_payment_terms  \\\n",
              "3314            86275.29           2019-03-19               NAA8   \n",
              "7514            18180.33           2019-10-25               NAA8   \n",
              "18665           31201.49           2019-05-13               NAA8   \n",
              "36190           62648.77           2020-01-24               NAA8   \n",
              "42664           24207.72           2019-12-11               NAA8   \n",
              "43699           71313.95           2019-12-13               NAA8   \n",
              "44691            7634.56           2019-10-20               NAA8   \n",
              "45679            4317.04           2019-02-14               NAA8   \n",
              "\n",
              "         invoice_id  isOpen  \n",
              "3314   1.928990e+09       0  \n",
              "7514   1.930054e+09       0  \n",
              "18665  1.929305e+09       0  \n",
              "36190  1.930441e+09       0  \n",
              "42664  1.930261e+09       0  \n",
              "43699  1.930281e+09       0  \n",
              "44691  1.930036e+09       0  \n",
              "45679  1.928780e+09       0  "
            ]
          },
          "metadata": {
            "tags": []
          },
          "execution_count": 28
        }
      ]
    },
    {
      "cell_type": "code",
      "metadata": {
        "id": "045s78CeS1A3",
        "outputId": "fa2d72a7-e5c4-48a7-88e1-edd4997006ae"
      },
      "source": [
        "len(df['cust_number'].unique())"
      ],
      "execution_count": null,
      "outputs": [
        {
          "output_type": "execute_result",
          "data": {
            "text/plain": [
              "1085"
            ]
          },
          "metadata": {
            "tags": []
          },
          "execution_count": 29
        }
      ]
    },
    {
      "cell_type": "markdown",
      "metadata": {
        "id": "UWmeOQj7TxlG"
      },
      "source": [
        "removing all duplicate values"
      ]
    },
    {
      "cell_type": "code",
      "metadata": {
        "id": "QY6NCAOxS1A3"
      },
      "source": [
        "df = df.drop_duplicates()"
      ],
      "execution_count": null,
      "outputs": []
    },
    {
      "cell_type": "code",
      "metadata": {
        "id": "5KJ5B9fbS1A4",
        "outputId": "6dd94967-0617-44ac-a5e6-a3194a87d0cc"
      },
      "source": [
        "df.shape"
      ],
      "execution_count": null,
      "outputs": [
        {
          "output_type": "execute_result",
          "data": {
            "text/plain": [
              "(46449, 19)"
            ]
          },
          "metadata": {
            "tags": []
          },
          "execution_count": 31
        }
      ]
    },
    {
      "cell_type": "code",
      "metadata": {
        "id": "6lm7neVCS1A4",
        "outputId": "5daf743b-bf41-49e8-82fc-93639be56840"
      },
      "source": [
        "df"
      ],
      "execution_count": null,
      "outputs": [
        {
          "output_type": "execute_result",
          "data": {
            "text/html": [
              "<div>\n",
              "<style scoped>\n",
              "    .dataframe tbody tr th:only-of-type {\n",
              "        vertical-align: middle;\n",
              "    }\n",
              "\n",
              "    .dataframe tbody tr th {\n",
              "        vertical-align: top;\n",
              "    }\n",
              "\n",
              "    .dataframe thead th {\n",
              "        text-align: right;\n",
              "    }\n",
              "</style>\n",
              "<table border=\"1\" class=\"dataframe\">\n",
              "  <thead>\n",
              "    <tr style=\"text-align: right;\">\n",
              "      <th></th>\n",
              "      <th>business_code</th>\n",
              "      <th>cust_number</th>\n",
              "      <th>name_customer</th>\n",
              "      <th>clear_date</th>\n",
              "      <th>buisness_year</th>\n",
              "      <th>doc_id</th>\n",
              "      <th>posting_date</th>\n",
              "      <th>document_create_date</th>\n",
              "      <th>document_create_date.1</th>\n",
              "      <th>due_in_date</th>\n",
              "      <th>invoice_currency</th>\n",
              "      <th>document type</th>\n",
              "      <th>posting_id</th>\n",
              "      <th>area_business</th>\n",
              "      <th>total_open_amount</th>\n",
              "      <th>baseline_create_date</th>\n",
              "      <th>cust_payment_terms</th>\n",
              "      <th>invoice_id</th>\n",
              "      <th>isOpen</th>\n",
              "    </tr>\n",
              "  </thead>\n",
              "  <tbody>\n",
              "    <tr>\n",
              "      <th>0</th>\n",
              "      <td>U001</td>\n",
              "      <td>200020431</td>\n",
              "      <td>DEC associates</td>\n",
              "      <td>2020-03-02</td>\n",
              "      <td>2020.0</td>\n",
              "      <td>1.930548e+09</td>\n",
              "      <td>2020-02-20</td>\n",
              "      <td>2020-02-20</td>\n",
              "      <td>2020-02-20</td>\n",
              "      <td>2020-03-10</td>\n",
              "      <td>USD</td>\n",
              "      <td>RV</td>\n",
              "      <td>1.0</td>\n",
              "      <td>NaN</td>\n",
              "      <td>3492.90</td>\n",
              "      <td>2020-02-16</td>\n",
              "      <td>NAM4</td>\n",
              "      <td>1.930548e+09</td>\n",
              "      <td>0</td>\n",
              "    </tr>\n",
              "    <tr>\n",
              "      <th>1</th>\n",
              "      <td>U001</td>\n",
              "      <td>200078795</td>\n",
              "      <td>H T H in</td>\n",
              "      <td>2019-04-10</td>\n",
              "      <td>2019.0</td>\n",
              "      <td>1.929042e+09</td>\n",
              "      <td>2019-03-27</td>\n",
              "      <td>2019-03-27</td>\n",
              "      <td>2019-03-27</td>\n",
              "      <td>2019-04-11</td>\n",
              "      <td>USD</td>\n",
              "      <td>RV</td>\n",
              "      <td>1.0</td>\n",
              "      <td>NaN</td>\n",
              "      <td>4772.38</td>\n",
              "      <td>2019-03-27</td>\n",
              "      <td>NAA8</td>\n",
              "      <td>1.929042e+09</td>\n",
              "      <td>0</td>\n",
              "    </tr>\n",
              "    <tr>\n",
              "      <th>2</th>\n",
              "      <td>U001</td>\n",
              "      <td>200769623</td>\n",
              "      <td>WAL-MAR systems</td>\n",
              "      <td>2019-09-03</td>\n",
              "      <td>2019.0</td>\n",
              "      <td>1.929767e+09</td>\n",
              "      <td>2019-08-21</td>\n",
              "      <td>2019-08-20</td>\n",
              "      <td>2019-08-21</td>\n",
              "      <td>2019-09-05</td>\n",
              "      <td>USD</td>\n",
              "      <td>RV</td>\n",
              "      <td>1.0</td>\n",
              "      <td>NaN</td>\n",
              "      <td>15894.82</td>\n",
              "      <td>2019-08-21</td>\n",
              "      <td>NAH4</td>\n",
              "      <td>1.929767e+09</td>\n",
              "      <td>0</td>\n",
              "    </tr>\n",
              "    <tr>\n",
              "      <th>3</th>\n",
              "      <td>U001</td>\n",
              "      <td>200769623</td>\n",
              "      <td>WAL-MAR corporation</td>\n",
              "      <td>2020-02-12</td>\n",
              "      <td>2020.0</td>\n",
              "      <td>1.930460e+09</td>\n",
              "      <td>2020-02-01</td>\n",
              "      <td>2020-01-30</td>\n",
              "      <td>2020-02-01</td>\n",
              "      <td>2020-02-16</td>\n",
              "      <td>USD</td>\n",
              "      <td>RV</td>\n",
              "      <td>1.0</td>\n",
              "      <td>NaN</td>\n",
              "      <td>55317.82</td>\n",
              "      <td>2020-02-01</td>\n",
              "      <td>NAH4</td>\n",
              "      <td>1.930460e+09</td>\n",
              "      <td>0</td>\n",
              "    </tr>\n",
              "    <tr>\n",
              "      <th>4</th>\n",
              "      <td>U001</td>\n",
              "      <td>200769623</td>\n",
              "      <td>WAL-MAR associates</td>\n",
              "      <td>2019-03-18</td>\n",
              "      <td>2019.0</td>\n",
              "      <td>1.928913e+09</td>\n",
              "      <td>2019-03-07</td>\n",
              "      <td>2019-03-06</td>\n",
              "      <td>2019-03-07</td>\n",
              "      <td>2019-03-22</td>\n",
              "      <td>USD</td>\n",
              "      <td>RV</td>\n",
              "      <td>1.0</td>\n",
              "      <td>NaN</td>\n",
              "      <td>50710.15</td>\n",
              "      <td>2019-03-07</td>\n",
              "      <td>NAH4</td>\n",
              "      <td>1.928913e+09</td>\n",
              "      <td>0</td>\n",
              "    </tr>\n",
              "    <tr>\n",
              "      <th>...</th>\n",
              "      <td>...</td>\n",
              "      <td>...</td>\n",
              "      <td>...</td>\n",
              "      <td>...</td>\n",
              "      <td>...</td>\n",
              "      <td>...</td>\n",
              "      <td>...</td>\n",
              "      <td>...</td>\n",
              "      <td>...</td>\n",
              "      <td>...</td>\n",
              "      <td>...</td>\n",
              "      <td>...</td>\n",
              "      <td>...</td>\n",
              "      <td>...</td>\n",
              "      <td>...</td>\n",
              "      <td>...</td>\n",
              "      <td>...</td>\n",
              "      <td>...</td>\n",
              "      <td>...</td>\n",
              "    </tr>\n",
              "    <tr>\n",
              "      <th>46444</th>\n",
              "      <td>U001</td>\n",
              "      <td>13</td>\n",
              "      <td>KRAFT F us</td>\n",
              "      <td>2019-03-01</td>\n",
              "      <td>2019.0</td>\n",
              "      <td>1.928636e+09</td>\n",
              "      <td>2019-01-20</td>\n",
              "      <td>2019-01-16</td>\n",
              "      <td>2019-01-20</td>\n",
              "      <td>2019-01-20</td>\n",
              "      <td>USD</td>\n",
              "      <td>RV</td>\n",
              "      <td>1.0</td>\n",
              "      <td>NaN</td>\n",
              "      <td>7465.45</td>\n",
              "      <td>2019-01-20</td>\n",
              "      <td>NAX2</td>\n",
              "      <td>1.928636e+09</td>\n",
              "      <td>0</td>\n",
              "    </tr>\n",
              "    <tr>\n",
              "      <th>46445</th>\n",
              "      <td>U001</td>\n",
              "      <td>200759878</td>\n",
              "      <td>SA in</td>\n",
              "      <td>2019-03-11</td>\n",
              "      <td>2019.0</td>\n",
              "      <td>1.928831e+09</td>\n",
              "      <td>2019-02-22</td>\n",
              "      <td>2019-02-20</td>\n",
              "      <td>2019-02-22</td>\n",
              "      <td>2019-03-09</td>\n",
              "      <td>USD</td>\n",
              "      <td>RV</td>\n",
              "      <td>1.0</td>\n",
              "      <td>NaN</td>\n",
              "      <td>29096.77</td>\n",
              "      <td>2019-02-22</td>\n",
              "      <td>NAH4</td>\n",
              "      <td>1.928831e+09</td>\n",
              "      <td>0</td>\n",
              "    </tr>\n",
              "    <tr>\n",
              "      <th>46446</th>\n",
              "      <td>U001</td>\n",
              "      <td>100031704</td>\n",
              "      <td>DELHAIZE corporation</td>\n",
              "      <td>2019-02-19</td>\n",
              "      <td>2019.0</td>\n",
              "      <td>1.928730e+09</td>\n",
              "      <td>2019-02-03</td>\n",
              "      <td>2019-02-03</td>\n",
              "      <td>2019-02-03</td>\n",
              "      <td>2019-02-18</td>\n",
              "      <td>USD</td>\n",
              "      <td>RV</td>\n",
              "      <td>1.0</td>\n",
              "      <td>NaN</td>\n",
              "      <td>105516.06</td>\n",
              "      <td>2019-02-03</td>\n",
              "      <td>NAA8</td>\n",
              "      <td>1.928730e+09</td>\n",
              "      <td>0</td>\n",
              "    </tr>\n",
              "    <tr>\n",
              "      <th>46447</th>\n",
              "      <td>U001</td>\n",
              "      <td>200707822</td>\n",
              "      <td>PUBLI corp</td>\n",
              "      <td>2019-09-19</td>\n",
              "      <td>2019.0</td>\n",
              "      <td>1.929822e+09</td>\n",
              "      <td>2019-09-04</td>\n",
              "      <td>2019-09-04</td>\n",
              "      <td>2019-09-04</td>\n",
              "      <td>2019-09-19</td>\n",
              "      <td>USD</td>\n",
              "      <td>RV</td>\n",
              "      <td>1.0</td>\n",
              "      <td>NaN</td>\n",
              "      <td>21512.99</td>\n",
              "      <td>2019-09-04</td>\n",
              "      <td>NAA8</td>\n",
              "      <td>1.929822e+09</td>\n",
              "      <td>0</td>\n",
              "    </tr>\n",
              "    <tr>\n",
              "      <th>46448</th>\n",
              "      <td>U001</td>\n",
              "      <td>200780825</td>\n",
              "      <td>SYSCO FO corporation</td>\n",
              "      <td>2020-01-23</td>\n",
              "      <td>2020.0</td>\n",
              "      <td>1.930363e+09</td>\n",
              "      <td>2020-01-07</td>\n",
              "      <td>2020-01-07</td>\n",
              "      <td>2020-01-07</td>\n",
              "      <td>2020-01-22</td>\n",
              "      <td>USD</td>\n",
              "      <td>RV</td>\n",
              "      <td>1.0</td>\n",
              "      <td>NaN</td>\n",
              "      <td>18346.57</td>\n",
              "      <td>2020-01-07</td>\n",
              "      <td>NAA8</td>\n",
              "      <td>1.930363e+09</td>\n",
              "      <td>0</td>\n",
              "    </tr>\n",
              "  </tbody>\n",
              "</table>\n",
              "<p>46449 rows × 19 columns</p>\n",
              "</div>"
            ],
            "text/plain": [
              "      business_code  cust_number         name_customer clear_date  \\\n",
              "0              U001    200020431        DEC associates 2020-03-02   \n",
              "1              U001    200078795              H T H in 2019-04-10   \n",
              "2              U001    200769623       WAL-MAR systems 2019-09-03   \n",
              "3              U001    200769623   WAL-MAR corporation 2020-02-12   \n",
              "4              U001    200769623    WAL-MAR associates 2019-03-18   \n",
              "...             ...          ...                   ...        ...   \n",
              "46444          U001           13            KRAFT F us 2019-03-01   \n",
              "46445          U001    200759878                 SA in 2019-03-11   \n",
              "46446          U001    100031704  DELHAIZE corporation 2019-02-19   \n",
              "46447          U001    200707822            PUBLI corp 2019-09-19   \n",
              "46448          U001    200780825  SYSCO FO corporation 2020-01-23   \n",
              "\n",
              "       buisness_year        doc_id posting_date document_create_date  \\\n",
              "0             2020.0  1.930548e+09   2020-02-20           2020-02-20   \n",
              "1             2019.0  1.929042e+09   2019-03-27           2019-03-27   \n",
              "2             2019.0  1.929767e+09   2019-08-21           2019-08-20   \n",
              "3             2020.0  1.930460e+09   2020-02-01           2020-01-30   \n",
              "4             2019.0  1.928913e+09   2019-03-07           2019-03-06   \n",
              "...              ...           ...          ...                  ...   \n",
              "46444         2019.0  1.928636e+09   2019-01-20           2019-01-16   \n",
              "46445         2019.0  1.928831e+09   2019-02-22           2019-02-20   \n",
              "46446         2019.0  1.928730e+09   2019-02-03           2019-02-03   \n",
              "46447         2019.0  1.929822e+09   2019-09-04           2019-09-04   \n",
              "46448         2020.0  1.930363e+09   2020-01-07           2020-01-07   \n",
              "\n",
              "      document_create_date.1 due_in_date invoice_currency document type  \\\n",
              "0                 2020-02-20  2020-03-10              USD            RV   \n",
              "1                 2019-03-27  2019-04-11              USD            RV   \n",
              "2                 2019-08-21  2019-09-05              USD            RV   \n",
              "3                 2020-02-01  2020-02-16              USD            RV   \n",
              "4                 2019-03-07  2019-03-22              USD            RV   \n",
              "...                      ...         ...              ...           ...   \n",
              "46444             2019-01-20  2019-01-20              USD            RV   \n",
              "46445             2019-02-22  2019-03-09              USD            RV   \n",
              "46446             2019-02-03  2019-02-18              USD            RV   \n",
              "46447             2019-09-04  2019-09-19              USD            RV   \n",
              "46448             2020-01-07  2020-01-22              USD            RV   \n",
              "\n",
              "       posting_id  area_business  total_open_amount baseline_create_date  \\\n",
              "0             1.0            NaN            3492.90           2020-02-16   \n",
              "1             1.0            NaN            4772.38           2019-03-27   \n",
              "2             1.0            NaN           15894.82           2019-08-21   \n",
              "3             1.0            NaN           55317.82           2020-02-01   \n",
              "4             1.0            NaN           50710.15           2019-03-07   \n",
              "...           ...            ...                ...                  ...   \n",
              "46444         1.0            NaN            7465.45           2019-01-20   \n",
              "46445         1.0            NaN           29096.77           2019-02-22   \n",
              "46446         1.0            NaN          105516.06           2019-02-03   \n",
              "46447         1.0            NaN           21512.99           2019-09-04   \n",
              "46448         1.0            NaN           18346.57           2020-01-07   \n",
              "\n",
              "      cust_payment_terms    invoice_id  isOpen  \n",
              "0                   NAM4  1.930548e+09       0  \n",
              "1                   NAA8  1.929042e+09       0  \n",
              "2                   NAH4  1.929767e+09       0  \n",
              "3                   NAH4  1.930460e+09       0  \n",
              "4                   NAH4  1.928913e+09       0  \n",
              "...                  ...           ...     ...  \n",
              "46444               NAX2  1.928636e+09       0  \n",
              "46445               NAH4  1.928831e+09       0  \n",
              "46446               NAA8  1.928730e+09       0  \n",
              "46447               NAA8  1.929822e+09       0  \n",
              "46448               NAA8  1.930363e+09       0  \n",
              "\n",
              "[46449 rows x 19 columns]"
            ]
          },
          "metadata": {
            "tags": []
          },
          "execution_count": 32
        }
      ]
    },
    {
      "cell_type": "markdown",
      "metadata": {
        "id": "4yJf3JYeT1hG"
      },
      "source": [
        "adding a new column 'delay'"
      ]
    },
    {
      "cell_type": "code",
      "metadata": {
        "id": "HuVZUB3-S1A4"
      },
      "source": [
        "df['delay']=(pd.to_datetime(df['clear_date'])-pd.to_datetime(df['due_in_date'])).dt.days"
      ],
      "execution_count": null,
      "outputs": []
    },
    {
      "cell_type": "markdown",
      "metadata": {
        "id": "TrQobC7fT5tv"
      },
      "source": [
        "adding a new column 'daystosettle'"
      ]
    },
    {
      "cell_type": "code",
      "metadata": {
        "id": "cWcbEcIpS1A5"
      },
      "source": [
        "df['daystosettle']=(pd.to_datetime(df['due_in_date'])-pd.to_datetime(df['document_create_date.1'])).dt.days"
      ],
      "execution_count": null,
      "outputs": []
    },
    {
      "cell_type": "code",
      "metadata": {
        "id": "c7-N4z8rS1A5",
        "outputId": "01d19c62-6412-4334-eef0-02439a951389"
      },
      "source": [
        "df['delay'][0]"
      ],
      "execution_count": null,
      "outputs": [
        {
          "output_type": "execute_result",
          "data": {
            "text/plain": [
              "-8"
            ]
          },
          "metadata": {
            "tags": []
          },
          "execution_count": 35
        }
      ]
    },
    {
      "cell_type": "markdown",
      "metadata": {
        "id": "pBPle-zWT-Xu"
      },
      "source": [
        "checking if customer is late or on time or before time  and making a seperate column for so"
      ]
    },
    {
      "cell_type": "code",
      "metadata": {
        "id": "RQAJ_Vj_S1A5",
        "outputId": "f887fdb8-2a39-4bb2-b2d0-32659a63f6e7"
      },
      "source": [
        "for x in range(len(df['delay'])):\n",
        "  if(df['delay'][x]<0):\n",
        "    df['delay'][x]=0"
      ],
      "execution_count": null,
      "outputs": [
        {
          "output_type": "stream",
          "text": [
            "c:\\users\\kiit\\appdata\\local\\programs\\python\\python37\\lib\\site-packages\\ipykernel_launcher.py:3: SettingWithCopyWarning: \n",
            "A value is trying to be set on a copy of a slice from a DataFrame\n",
            "\n",
            "See the caveats in the documentation: https://pandas.pydata.org/pandas-docs/stable/user_guide/indexing.html#returning-a-view-versus-a-copy\n",
            "  This is separate from the ipykernel package so we can avoid doing imports until\n"
          ],
          "name": "stderr"
        }
      ]
    },
    {
      "cell_type": "code",
      "metadata": {
        "id": "JyWEbCUTS1A6"
      },
      "source": [
        "df['Late'] = df['delay'].apply(lambda x: 1 if x >0 else 0)"
      ],
      "execution_count": null,
      "outputs": []
    },
    {
      "cell_type": "markdown",
      "metadata": {
        "id": "E9nGnAO8UOSH"
      },
      "source": [
        "creating labels to encode data"
      ]
    },
    {
      "cell_type": "code",
      "metadata": {
        "id": "lOG_q5zrS1A6"
      },
      "source": [
        "labels = df['cust_number'].astype('category').cat.categories.tolist()"
      ],
      "execution_count": null,
      "outputs": []
    },
    {
      "cell_type": "code",
      "metadata": {
        "id": "TljlJxnWS1A6",
        "outputId": "79f01590-2907-4d2c-e3c1-b37cbc15d361"
      },
      "source": [
        "len(labels)"
      ],
      "execution_count": null,
      "outputs": [
        {
          "output_type": "execute_result",
          "data": {
            "text/plain": [
              "1085"
            ]
          },
          "metadata": {
            "tags": []
          },
          "execution_count": 39
        }
      ]
    },
    {
      "cell_type": "code",
      "metadata": {
        "id": "J_28hnkIS1A6"
      },
      "source": [
        "replace_map_comp = {'cust_number' : {k: v for k,v in zip(labels,list(range(1,len(labels)+1)))}}"
      ],
      "execution_count": null,
      "outputs": []
    },
    {
      "cell_type": "code",
      "metadata": {
        "id": "uNLAFYUvS1A7"
      },
      "source": [
        "lulli=df.copy()"
      ],
      "execution_count": null,
      "outputs": []
    },
    {
      "cell_type": "code",
      "metadata": {
        "id": "EeWXcjIRS1A7"
      },
      "source": [
        "df['cust_number']=a"
      ],
      "execution_count": null,
      "outputs": []
    },
    {
      "cell_type": "code",
      "metadata": {
        "id": "coN8IYmKS1A7"
      },
      "source": [
        "labels = df['cust_number'].astype('category').cat.categories.tolist()"
      ],
      "execution_count": null,
      "outputs": []
    },
    {
      "cell_type": "code",
      "metadata": {
        "id": "M2JvRp8jS1A7",
        "outputId": "af4f1ade-cf95-4842-c52b-c06f3a55ef16"
      },
      "source": [
        "len(labels)"
      ],
      "execution_count": null,
      "outputs": [
        {
          "output_type": "execute_result",
          "data": {
            "text/plain": [
              "1085"
            ]
          },
          "metadata": {
            "tags": []
          },
          "execution_count": 44
        }
      ]
    },
    {
      "cell_type": "code",
      "metadata": {
        "id": "V2F_MWroS1A8"
      },
      "source": [
        "replace_map_comp = {'cust_number' : {k: v for k,v in zip(labels,list(range(1,len(labels)+1)))}}"
      ],
      "execution_count": null,
      "outputs": []
    },
    {
      "cell_type": "code",
      "metadata": {
        "id": "-yZw1bXWS1A8"
      },
      "source": [
        "df.replace(replace_map_comp, inplace=True)"
      ],
      "execution_count": null,
      "outputs": []
    },
    {
      "cell_type": "code",
      "metadata": {
        "id": "QF--U1RlS1A8",
        "outputId": "480131ba-0813-4bfb-fb85-114224816b8f"
      },
      "source": [
        "df['cust_number'].nunique()"
      ],
      "execution_count": null,
      "outputs": [
        {
          "output_type": "execute_result",
          "data": {
            "text/plain": [
              "1085"
            ]
          },
          "metadata": {
            "tags": []
          },
          "execution_count": 47
        }
      ]
    },
    {
      "cell_type": "markdown",
      "metadata": {
        "id": "ekAr-QeXUVuS"
      },
      "source": [
        "implementing feature engineering operations on the data "
      ]
    },
    {
      "cell_type": "code",
      "metadata": {
        "id": "yIUkRrHUS1A8",
        "outputId": "47492f52-e169-47b2-d711-58c599d52a8a"
      },
      "source": [
        "df[df['document type']=='X2'].delay.mean()"
      ],
      "execution_count": null,
      "outputs": [
        {
          "output_type": "execute_result",
          "data": {
            "text/plain": [
              "89.0"
            ]
          },
          "metadata": {
            "tags": []
          },
          "execution_count": 48
        }
      ]
    },
    {
      "cell_type": "code",
      "metadata": {
        "id": "xKgI59hjS1A9",
        "outputId": "6fb45858-1bff-43e3-c31c-c469d35d978c"
      },
      "source": [
        "df['invoice_currency'].value_counts()"
      ],
      "execution_count": null,
      "outputs": [
        {
          "output_type": "execute_result",
          "data": {
            "text/plain": [
              "USD    42791\n",
              "CAD     3658\n",
              "Name: invoice_currency, dtype: int64"
            ]
          },
          "metadata": {
            "tags": []
          },
          "execution_count": 49
        }
      ]
    },
    {
      "cell_type": "code",
      "metadata": {
        "id": "NG9MWTJTS1A9",
        "outputId": "49ba548f-38c2-46dd-8475-3296d6e917c7"
      },
      "source": [
        "df.groupby('invoice_currency')['delay'].max()"
      ],
      "execution_count": null,
      "outputs": [
        {
          "output_type": "execute_result",
          "data": {
            "text/plain": [
              "invoice_currency\n",
              "CAD    253\n",
              "USD    282\n",
              "Name: delay, dtype: int64"
            ]
          },
          "metadata": {
            "tags": []
          },
          "execution_count": 50
        }
      ]
    },
    {
      "cell_type": "code",
      "metadata": {
        "id": "4xzVeT9xS1A9",
        "outputId": "620532e3-ddf2-4b94-f408-4256e64552e0"
      },
      "source": [
        "df.groupby('cust_payment_terms')['delay'].mean()"
      ],
      "execution_count": null,
      "outputs": [
        {
          "output_type": "execute_result",
          "data": {
            "text/plain": [
              "cust_payment_terms\n",
              "90M7     0.000000\n",
              "B052     0.000000\n",
              "BR12    11.000000\n",
              "BR56     4.000000\n",
              "C106     2.388889\n",
              "          ...    \n",
              "NAWM     4.000000\n",
              "NAWN     4.522124\n",
              "NAWP     0.000000\n",
              "NAWU     1.299270\n",
              "NAX2    43.581184\n",
              "Name: delay, Length: 69, dtype: float64"
            ]
          },
          "metadata": {
            "tags": []
          },
          "execution_count": 51
        }
      ]
    },
    {
      "cell_type": "code",
      "metadata": {
        "id": "ArpYyPrbS1A-",
        "outputId": "bf302fc9-eef7-41f7-d4f7-4040f1d48d53"
      },
      "source": [
        "df.groupby('business_code')['delay'].mean()"
      ],
      "execution_count": null,
      "outputs": [
        {
          "output_type": "execute_result",
          "data": {
            "text/plain": [
              "business_code\n",
              "CA02     6.762647\n",
              "U001     2.310491\n",
              "U002     4.371795\n",
              "U005    16.454545\n",
              "U007     4.000000\n",
              "U013    11.082077\n",
              "Name: delay, dtype: float64"
            ]
          },
          "metadata": {
            "tags": []
          },
          "execution_count": 52
        }
      ]
    },
    {
      "cell_type": "code",
      "metadata": {
        "id": "AE14--wNS1A-"
      },
      "source": [
        "df1 = df[df['delay']>0].copy()"
      ],
      "execution_count": null,
      "outputs": []
    },
    {
      "cell_type": "code",
      "metadata": {
        "id": "Yq59AOWdS1A-"
      },
      "source": [
        "df2 = pd.DataFrame(df1.groupby(['cust_number'], axis=0, as_index=False)['delay'].count())"
      ],
      "execution_count": null,
      "outputs": []
    },
    {
      "cell_type": "code",
      "metadata": {
        "id": "syLY7ZMvS1A-"
      },
      "source": [
        "df2.columns = (['cust_number','repeatCust'])"
      ],
      "execution_count": null,
      "outputs": []
    },
    {
      "cell_type": "code",
      "metadata": {
        "id": "PQVU1m3lS1A_",
        "outputId": "4bc2a623-b054-40a2-97a9-e593e5360e36"
      },
      "source": [
        "df2"
      ],
      "execution_count": null,
      "outputs": [
        {
          "output_type": "execute_result",
          "data": {
            "text/html": [
              "<div>\n",
              "<style scoped>\n",
              "    .dataframe tbody tr th:only-of-type {\n",
              "        vertical-align: middle;\n",
              "    }\n",
              "\n",
              "    .dataframe tbody tr th {\n",
              "        vertical-align: top;\n",
              "    }\n",
              "\n",
              "    .dataframe thead th {\n",
              "        text-align: right;\n",
              "    }\n",
              "</style>\n",
              "<table border=\"1\" class=\"dataframe\">\n",
              "  <thead>\n",
              "    <tr style=\"text-align: right;\">\n",
              "      <th></th>\n",
              "      <th>cust_number</th>\n",
              "      <th>repeatCust</th>\n",
              "    </tr>\n",
              "  </thead>\n",
              "  <tbody>\n",
              "    <tr>\n",
              "      <th>0</th>\n",
              "      <td>1</td>\n",
              "      <td>80</td>\n",
              "    </tr>\n",
              "    <tr>\n",
              "      <th>1</th>\n",
              "      <td>2</td>\n",
              "      <td>30</td>\n",
              "    </tr>\n",
              "    <tr>\n",
              "      <th>2</th>\n",
              "      <td>3</td>\n",
              "      <td>1</td>\n",
              "    </tr>\n",
              "    <tr>\n",
              "      <th>3</th>\n",
              "      <td>4</td>\n",
              "      <td>1</td>\n",
              "    </tr>\n",
              "    <tr>\n",
              "      <th>4</th>\n",
              "      <td>5</td>\n",
              "      <td>6</td>\n",
              "    </tr>\n",
              "    <tr>\n",
              "      <th>...</th>\n",
              "      <td>...</td>\n",
              "      <td>...</td>\n",
              "    </tr>\n",
              "    <tr>\n",
              "      <th>798</th>\n",
              "      <td>1081</td>\n",
              "      <td>10</td>\n",
              "    </tr>\n",
              "    <tr>\n",
              "      <th>799</th>\n",
              "      <td>1082</td>\n",
              "      <td>9</td>\n",
              "    </tr>\n",
              "    <tr>\n",
              "      <th>800</th>\n",
              "      <td>1083</td>\n",
              "      <td>24</td>\n",
              "    </tr>\n",
              "    <tr>\n",
              "      <th>801</th>\n",
              "      <td>1084</td>\n",
              "      <td>6</td>\n",
              "    </tr>\n",
              "    <tr>\n",
              "      <th>802</th>\n",
              "      <td>1085</td>\n",
              "      <td>10</td>\n",
              "    </tr>\n",
              "  </tbody>\n",
              "</table>\n",
              "<p>803 rows × 2 columns</p>\n",
              "</div>"
            ],
            "text/plain": [
              "     cust_number  repeatCust\n",
              "0              1          80\n",
              "1              2          30\n",
              "2              3           1\n",
              "3              4           1\n",
              "4              5           6\n",
              "..           ...         ...\n",
              "798         1081          10\n",
              "799         1082           9\n",
              "800         1083          24\n",
              "801         1084           6\n",
              "802         1085          10\n",
              "\n",
              "[803 rows x 2 columns]"
            ]
          },
          "metadata": {
            "tags": []
          },
          "execution_count": 56
        }
      ]
    },
    {
      "cell_type": "code",
      "metadata": {
        "id": "ZTt1ZP_2S1A_"
      },
      "source": [
        "df3 = pd.merge(df, df2, how='left', on='cust_number')"
      ],
      "execution_count": null,
      "outputs": []
    },
    {
      "cell_type": "code",
      "metadata": {
        "id": "VXTUJ_6pS1A_"
      },
      "source": [
        "df3['repeatCust'].fillna(0, inplace=True)"
      ],
      "execution_count": null,
      "outputs": []
    },
    {
      "cell_type": "code",
      "metadata": {
        "id": "rfL3VOoES1A_"
      },
      "source": [
        "df=df3"
      ],
      "execution_count": null,
      "outputs": []
    },
    {
      "cell_type": "code",
      "metadata": {
        "id": "6ZaNSM4bS1BA"
      },
      "source": [
        "df['countlate']=df.Late.eq(1).groupby(df.cust_number).apply(lambda x : x.cumsum().shift().fillna(0)).astype(int)"
      ],
      "execution_count": null,
      "outputs": []
    },
    {
      "cell_type": "code",
      "metadata": {
        "id": "1Ypc67qFS1BA"
      },
      "source": [
        "x=['due_in_date','invoice_currency','name_customer','document_create_date','document_create_date.1','clear_date','doc_id','invoice_id','posting_date','posting_id','doc_id','document type','baseline_create_date','area_business','isOpen']\n",
        "df.drop(x,axis=1,inplace=True)"
      ],
      "execution_count": null,
      "outputs": []
    },
    {
      "cell_type": "code",
      "metadata": {
        "id": "XFwSMkMQS1BA"
      },
      "source": [
        "labels = df['cust_payment_terms'].astype('category').cat.categories.tolist()\n",
        "replace_map_comp = {'cust_payment_terms' : {k: v for k,v in zip(labels,list(range(1,len(labels)+1)))}}\n",
        "df.replace(replace_map_comp, inplace=True)"
      ],
      "execution_count": null,
      "outputs": []
    },
    {
      "cell_type": "code",
      "metadata": {
        "id": "Hg4FcSoES1BA"
      },
      "source": [
        "labels = df['business_code'].astype('category').cat.categories.tolist()\n",
        "replace_map_comp = {'business_code' : {k: v for k,v in zip(labels,list(range(1,len(labels)+1)))}}\n",
        "df.replace(replace_map_comp, inplace=True)"
      ],
      "execution_count": null,
      "outputs": []
    },
    {
      "cell_type": "code",
      "metadata": {
        "id": "FgtLQcfeS1BA",
        "outputId": "5225df05-6b12-4416-f6f3-4021b9c2710d"
      },
      "source": [
        "df.head()"
      ],
      "execution_count": null,
      "outputs": [
        {
          "output_type": "execute_result",
          "data": {
            "text/html": [
              "<div>\n",
              "<style scoped>\n",
              "    .dataframe tbody tr th:only-of-type {\n",
              "        vertical-align: middle;\n",
              "    }\n",
              "\n",
              "    .dataframe tbody tr th {\n",
              "        vertical-align: top;\n",
              "    }\n",
              "\n",
              "    .dataframe thead th {\n",
              "        text-align: right;\n",
              "    }\n",
              "</style>\n",
              "<table border=\"1\" class=\"dataframe\">\n",
              "  <thead>\n",
              "    <tr style=\"text-align: right;\">\n",
              "      <th></th>\n",
              "      <th>business_code</th>\n",
              "      <th>cust_number</th>\n",
              "      <th>buisness_year</th>\n",
              "      <th>total_open_amount</th>\n",
              "      <th>cust_payment_terms</th>\n",
              "      <th>delay</th>\n",
              "      <th>daystosettle</th>\n",
              "      <th>Late</th>\n",
              "      <th>repeatCust</th>\n",
              "      <th>countlate</th>\n",
              "    </tr>\n",
              "  </thead>\n",
              "  <tbody>\n",
              "    <tr>\n",
              "      <th>0</th>\n",
              "      <td>2</td>\n",
              "      <td>474</td>\n",
              "      <td>2020.0</td>\n",
              "      <td>3492.90</td>\n",
              "      <td>39</td>\n",
              "      <td>0</td>\n",
              "      <td>19</td>\n",
              "      <td>0</td>\n",
              "      <td>45.0</td>\n",
              "      <td>0</td>\n",
              "    </tr>\n",
              "    <tr>\n",
              "      <th>1</th>\n",
              "      <td>2</td>\n",
              "      <td>500</td>\n",
              "      <td>2019.0</td>\n",
              "      <td>4772.38</td>\n",
              "      <td>21</td>\n",
              "      <td>0</td>\n",
              "      <td>15</td>\n",
              "      <td>0</td>\n",
              "      <td>24.0</td>\n",
              "      <td>0</td>\n",
              "    </tr>\n",
              "    <tr>\n",
              "      <th>2</th>\n",
              "      <td>2</td>\n",
              "      <td>901</td>\n",
              "      <td>2019.0</td>\n",
              "      <td>15894.82</td>\n",
              "      <td>35</td>\n",
              "      <td>0</td>\n",
              "      <td>15</td>\n",
              "      <td>0</td>\n",
              "      <td>1972.0</td>\n",
              "      <td>0</td>\n",
              "    </tr>\n",
              "    <tr>\n",
              "      <th>3</th>\n",
              "      <td>2</td>\n",
              "      <td>901</td>\n",
              "      <td>2020.0</td>\n",
              "      <td>55317.82</td>\n",
              "      <td>35</td>\n",
              "      <td>0</td>\n",
              "      <td>15</td>\n",
              "      <td>0</td>\n",
              "      <td>1972.0</td>\n",
              "      <td>0</td>\n",
              "    </tr>\n",
              "    <tr>\n",
              "      <th>4</th>\n",
              "      <td>2</td>\n",
              "      <td>901</td>\n",
              "      <td>2019.0</td>\n",
              "      <td>50710.15</td>\n",
              "      <td>35</td>\n",
              "      <td>0</td>\n",
              "      <td>15</td>\n",
              "      <td>0</td>\n",
              "      <td>1972.0</td>\n",
              "      <td>0</td>\n",
              "    </tr>\n",
              "  </tbody>\n",
              "</table>\n",
              "</div>"
            ],
            "text/plain": [
              "   business_code  cust_number  buisness_year  total_open_amount  \\\n",
              "0              2          474         2020.0            3492.90   \n",
              "1              2          500         2019.0            4772.38   \n",
              "2              2          901         2019.0           15894.82   \n",
              "3              2          901         2020.0           55317.82   \n",
              "4              2          901         2019.0           50710.15   \n",
              "\n",
              "   cust_payment_terms  delay  daystosettle  Late  repeatCust  countlate  \n",
              "0                  39      0            19     0        45.0          0  \n",
              "1                  21      0            15     0        24.0          0  \n",
              "2                  35      0            15     0      1972.0          0  \n",
              "3                  35      0            15     0      1972.0          0  \n",
              "4                  35      0            15     0      1972.0          0  "
            ]
          },
          "metadata": {
            "tags": []
          },
          "execution_count": 64
        }
      ]
    },
    {
      "cell_type": "markdown",
      "metadata": {
        "id": "RrapCsLgUeaS"
      },
      "source": [
        "preparing the final dataset to use split test upon"
      ]
    },
    {
      "cell_type": "code",
      "metadata": {
        "id": "MD30DFPVS1BB"
      },
      "source": [
        "cat_feats = ['business_code']\n",
        "final_data = pd.get_dummies(df,columns=cat_feats,drop_first=True)"
      ],
      "execution_count": null,
      "outputs": []
    },
    {
      "cell_type": "code",
      "metadata": {
        "id": "yXlofG_7S1BB",
        "outputId": "06e5086e-bf55-48b0-cfe8-69f752dc1f02"
      },
      "source": [
        "final_data.info()"
      ],
      "execution_count": null,
      "outputs": [
        {
          "output_type": "stream",
          "text": [
            "<class 'pandas.core.frame.DataFrame'>\n",
            "Int64Index: 46449 entries, 0 to 46448\n",
            "Data columns (total 14 columns):\n",
            " #   Column              Non-Null Count  Dtype  \n",
            "---  ------              --------------  -----  \n",
            " 0   cust_number         46449 non-null  int64  \n",
            " 1   buisness_year       46449 non-null  float64\n",
            " 2   total_open_amount   46449 non-null  float64\n",
            " 3   cust_payment_terms  46449 non-null  int64  \n",
            " 4   delay               46449 non-null  int64  \n",
            " 5   daystosettle        46449 non-null  int64  \n",
            " 6   Late                46449 non-null  int64  \n",
            " 7   repeatCust          46449 non-null  float64\n",
            " 8   countlate           46449 non-null  int32  \n",
            " 9   business_code_2     46449 non-null  uint8  \n",
            " 10  business_code_3     46449 non-null  uint8  \n",
            " 11  business_code_4     46449 non-null  uint8  \n",
            " 12  business_code_5     46449 non-null  uint8  \n",
            " 13  business_code_6     46449 non-null  uint8  \n",
            "dtypes: float64(3), int32(1), int64(5), uint8(5)\n",
            "memory usage: 4.6 MB\n"
          ],
          "name": "stdout"
        }
      ]
    },
    {
      "cell_type": "markdown",
      "metadata": {
        "id": "jyQ1p2pfU-jx"
      },
      "source": [
        "x is the independant variables(features)\r\n",
        "y is the target (dependant) variable (delay)"
      ]
    },
    {
      "cell_type": "code",
      "metadata": {
        "id": "qqUEDJbES1BB"
      },
      "source": [
        "features=['business_code','cust_number','total_open_amount','cust_payment_terms','Late','repeatCust','countlate','daystosettle']\n",
        "X = df[features]\n",
        "y = df['delay']"
      ],
      "execution_count": null,
      "outputs": []
    },
    {
      "cell_type": "code",
      "metadata": {
        "id": "Elm2fPOlS1BB",
        "outputId": "bb61fe73-6010-4c98-a4b1-0be66d0075e0"
      },
      "source": [
        "X"
      ],
      "execution_count": null,
      "outputs": [
        {
          "output_type": "execute_result",
          "data": {
            "text/html": [
              "<div>\n",
              "<style scoped>\n",
              "    .dataframe tbody tr th:only-of-type {\n",
              "        vertical-align: middle;\n",
              "    }\n",
              "\n",
              "    .dataframe tbody tr th {\n",
              "        vertical-align: top;\n",
              "    }\n",
              "\n",
              "    .dataframe thead th {\n",
              "        text-align: right;\n",
              "    }\n",
              "</style>\n",
              "<table border=\"1\" class=\"dataframe\">\n",
              "  <thead>\n",
              "    <tr style=\"text-align: right;\">\n",
              "      <th></th>\n",
              "      <th>business_code</th>\n",
              "      <th>cust_number</th>\n",
              "      <th>total_open_amount</th>\n",
              "      <th>cust_payment_terms</th>\n",
              "      <th>Late</th>\n",
              "      <th>repeatCust</th>\n",
              "      <th>countlate</th>\n",
              "      <th>daystosettle</th>\n",
              "    </tr>\n",
              "  </thead>\n",
              "  <tbody>\n",
              "    <tr>\n",
              "      <th>0</th>\n",
              "      <td>2</td>\n",
              "      <td>474</td>\n",
              "      <td>3492.90</td>\n",
              "      <td>39</td>\n",
              "      <td>0</td>\n",
              "      <td>45.0</td>\n",
              "      <td>0</td>\n",
              "      <td>19</td>\n",
              "    </tr>\n",
              "    <tr>\n",
              "      <th>1</th>\n",
              "      <td>2</td>\n",
              "      <td>500</td>\n",
              "      <td>4772.38</td>\n",
              "      <td>21</td>\n",
              "      <td>0</td>\n",
              "      <td>24.0</td>\n",
              "      <td>0</td>\n",
              "      <td>15</td>\n",
              "    </tr>\n",
              "    <tr>\n",
              "      <th>2</th>\n",
              "      <td>2</td>\n",
              "      <td>901</td>\n",
              "      <td>15894.82</td>\n",
              "      <td>35</td>\n",
              "      <td>0</td>\n",
              "      <td>1972.0</td>\n",
              "      <td>0</td>\n",
              "      <td>15</td>\n",
              "    </tr>\n",
              "    <tr>\n",
              "      <th>3</th>\n",
              "      <td>2</td>\n",
              "      <td>901</td>\n",
              "      <td>55317.82</td>\n",
              "      <td>35</td>\n",
              "      <td>0</td>\n",
              "      <td>1972.0</td>\n",
              "      <td>0</td>\n",
              "      <td>15</td>\n",
              "    </tr>\n",
              "    <tr>\n",
              "      <th>4</th>\n",
              "      <td>2</td>\n",
              "      <td>901</td>\n",
              "      <td>50710.15</td>\n",
              "      <td>35</td>\n",
              "      <td>0</td>\n",
              "      <td>1972.0</td>\n",
              "      <td>0</td>\n",
              "      <td>15</td>\n",
              "    </tr>\n",
              "    <tr>\n",
              "      <th>...</th>\n",
              "      <td>...</td>\n",
              "      <td>...</td>\n",
              "      <td>...</td>\n",
              "      <td>...</td>\n",
              "      <td>...</td>\n",
              "      <td>...</td>\n",
              "      <td>...</td>\n",
              "      <td>...</td>\n",
              "    </tr>\n",
              "    <tr>\n",
              "      <th>46444</th>\n",
              "      <td>2</td>\n",
              "      <td>1080</td>\n",
              "      <td>7465.45</td>\n",
              "      <td>69</td>\n",
              "      <td>1</td>\n",
              "      <td>649.0</td>\n",
              "      <td>648</td>\n",
              "      <td>0</td>\n",
              "    </tr>\n",
              "    <tr>\n",
              "      <th>46445</th>\n",
              "      <td>2</td>\n",
              "      <td>878</td>\n",
              "      <td>29096.77</td>\n",
              "      <td>35</td>\n",
              "      <td>1</td>\n",
              "      <td>981.0</td>\n",
              "      <td>980</td>\n",
              "      <td>15</td>\n",
              "    </tr>\n",
              "    <tr>\n",
              "      <th>46446</th>\n",
              "      <td>2</td>\n",
              "      <td>136</td>\n",
              "      <td>105516.06</td>\n",
              "      <td>21</td>\n",
              "      <td>1</td>\n",
              "      <td>276.0</td>\n",
              "      <td>275</td>\n",
              "      <td>15</td>\n",
              "    </tr>\n",
              "    <tr>\n",
              "      <th>46447</th>\n",
              "      <td>2</td>\n",
              "      <td>755</td>\n",
              "      <td>21512.99</td>\n",
              "      <td>21</td>\n",
              "      <td>0</td>\n",
              "      <td>244.0</td>\n",
              "      <td>244</td>\n",
              "      <td>15</td>\n",
              "    </tr>\n",
              "    <tr>\n",
              "      <th>46448</th>\n",
              "      <td>2</td>\n",
              "      <td>929</td>\n",
              "      <td>18346.57</td>\n",
              "      <td>21</td>\n",
              "      <td>1</td>\n",
              "      <td>95.0</td>\n",
              "      <td>94</td>\n",
              "      <td>15</td>\n",
              "    </tr>\n",
              "  </tbody>\n",
              "</table>\n",
              "<p>46449 rows × 8 columns</p>\n",
              "</div>"
            ],
            "text/plain": [
              "       business_code  cust_number  total_open_amount  cust_payment_terms  \\\n",
              "0                  2          474            3492.90                  39   \n",
              "1                  2          500            4772.38                  21   \n",
              "2                  2          901           15894.82                  35   \n",
              "3                  2          901           55317.82                  35   \n",
              "4                  2          901           50710.15                  35   \n",
              "...              ...          ...                ...                 ...   \n",
              "46444              2         1080            7465.45                  69   \n",
              "46445              2          878           29096.77                  35   \n",
              "46446              2          136          105516.06                  21   \n",
              "46447              2          755           21512.99                  21   \n",
              "46448              2          929           18346.57                  21   \n",
              "\n",
              "       Late  repeatCust  countlate  daystosettle  \n",
              "0         0        45.0          0            19  \n",
              "1         0        24.0          0            15  \n",
              "2         0      1972.0          0            15  \n",
              "3         0      1972.0          0            15  \n",
              "4         0      1972.0          0            15  \n",
              "...     ...         ...        ...           ...  \n",
              "46444     1       649.0        648             0  \n",
              "46445     1       981.0        980            15  \n",
              "46446     1       276.0        275            15  \n",
              "46447     0       244.0        244            15  \n",
              "46448     1        95.0         94            15  \n",
              "\n",
              "[46449 rows x 8 columns]"
            ]
          },
          "metadata": {
            "tags": []
          },
          "execution_count": 69
        }
      ]
    },
    {
      "cell_type": "markdown",
      "metadata": {
        "id": "sLjZGbZlUj2w"
      },
      "source": [
        "applying the split test operations using linear regression"
      ]
    },
    {
      "cell_type": "code",
      "metadata": {
        "id": "zk3rt42BS1BC",
        "outputId": "9b2454ee-d93e-4e83-f0d1-a6dcffdccf11"
      },
      "source": [
        "import pandas as pd\n",
        "import numpy as np\n",
        "from sklearn.model_selection import train_test_split\n",
        "X_train,X_test,y_train,y_test = train_test_split(X,y,test_size=.30,shuffle=False,random_state=5)\n",
        "X_train.shape,X_test.shape,y_train.shape,y_test.shape"
      ],
      "execution_count": null,
      "outputs": [
        {
          "output_type": "execute_result",
          "data": {
            "text/plain": [
              "((32514, 8), (13935, 8), (32514,), (13935,))"
            ]
          },
          "metadata": {
            "tags": []
          },
          "execution_count": 70
        }
      ]
    },
    {
      "cell_type": "code",
      "metadata": {
        "id": "HoqyngKfS1BC"
      },
      "source": [
        "linear=LinearRegression()"
      ],
      "execution_count": null,
      "outputs": []
    },
    {
      "cell_type": "code",
      "metadata": {
        "id": "QexIr038S1BC",
        "outputId": "6e308b6a-ebff-4068-8049-8a3646f88351"
      },
      "source": [
        "linear.fit(X_train,y_train)"
      ],
      "execution_count": null,
      "outputs": [
        {
          "output_type": "execute_result",
          "data": {
            "text/plain": [
              "LinearRegression()"
            ]
          },
          "metadata": {
            "tags": []
          },
          "execution_count": 72
        }
      ]
    },
    {
      "cell_type": "code",
      "metadata": {
        "id": "FCcPLst3S1BD"
      },
      "source": [
        "y_pred1 = linear.predict(X_test)"
      ],
      "execution_count": null,
      "outputs": []
    },
    {
      "cell_type": "code",
      "metadata": {
        "id": "OpGdEWYsS1BD",
        "outputId": "63125034-c6d8-4658-e4f0-85770f45b326"
      },
      "source": [
        "linear_accuracy = round(linear.score(X_train,y_train)*100,2)\n",
        "print(round(linear_accuracy,2),'%')"
      ],
      "execution_count": null,
      "outputs": [
        {
          "output_type": "stream",
          "text": [
            "21.37 %\n"
          ],
          "name": "stdout"
        }
      ]
    },
    {
      "cell_type": "code",
      "metadata": {
        "id": "6bTvctqeS1BD",
        "outputId": "02cb43db-cece-45d5-f48d-eb1ba4798fba"
      },
      "source": [
        "from sklearn.metrics import mean_absolute_error\n",
        "\n",
        "print(mean_absolute_error(y_test, y_pred1))"
      ],
      "execution_count": null,
      "outputs": [
        {
          "output_type": "stream",
          "text": [
            "3.439178455785106\n"
          ],
          "name": "stdout"
        }
      ]
    },
    {
      "cell_type": "code",
      "metadata": {
        "id": "IYIzJUk_S1BD",
        "outputId": "4aa292c7-f560-47e7-85ee-42f288aae8b9"
      },
      "source": [
        "y_pred1"
      ],
      "execution_count": null,
      "outputs": [
        {
          "output_type": "execute_result",
          "data": {
            "text/plain": [
              "array([ 5.66524541, -1.00911737, -0.36325749, ...,  7.10532333,\n",
              "       -0.60241837,  5.64691791])"
            ]
          },
          "metadata": {
            "tags": []
          },
          "execution_count": 76
        }
      ]
    },
    {
      "cell_type": "code",
      "metadata": {
        "id": "WU3nn4GmS1BE"
      },
      "source": [
        "GBR_model = GradientBoostingRegressor(n_estimators=100, max_depth=4)"
      ],
      "execution_count": null,
      "outputs": []
    },
    {
      "cell_type": "code",
      "metadata": {
        "id": "q6YdcuYgS1BE",
        "outputId": "4498f21f-2b51-435a-a026-dd6e9fdc8074"
      },
      "source": [
        "GBR_model.fit(X_train, y_train)"
      ],
      "execution_count": null,
      "outputs": [
        {
          "output_type": "execute_result",
          "data": {
            "text/plain": [
              "GradientBoostingRegressor(max_depth=4)"
            ]
          },
          "metadata": {
            "tags": []
          },
          "execution_count": 78
        }
      ]
    },
    {
      "cell_type": "code",
      "metadata": {
        "id": "A9XR5eXmS1BE"
      },
      "source": [
        "y_pred2 = GBR_model.predict(X_test)"
      ],
      "execution_count": null,
      "outputs": []
    },
    {
      "cell_type": "code",
      "metadata": {
        "id": "0v5jrj3MS1BE",
        "outputId": "acfd303c-a759-45fc-c786-3c6b8d2913be"
      },
      "source": [
        "GBR_model_accuracy = round(GBR_model.score(X_train,y_train)*100,2)\n",
        "print(round(GBR_model_accuracy,2),'%')"
      ],
      "execution_count": null,
      "outputs": [
        {
          "output_type": "stream",
          "text": [
            "63.26 %\n"
          ],
          "name": "stdout"
        }
      ]
    },
    {
      "cell_type": "code",
      "metadata": {
        "id": "__bNChnVS1BF"
      },
      "source": [
        "y_pred2=y_pred2.round()"
      ],
      "execution_count": null,
      "outputs": []
    },
    {
      "cell_type": "code",
      "metadata": {
        "id": "DtEtZqwAS1BG"
      },
      "source": [
        "from sklearn.feature_selection import RFE, f_regression\n",
        "from sklearn.linear_model import (LinearRegression, Ridge, Lasso)\n",
        "from sklearn.preprocessing import MinMaxScaler\n",
        "from sklearn.ensemble import RandomForestRegressor"
      ],
      "execution_count": null,
      "outputs": []
    },
    {
      "cell_type": "code",
      "metadata": {
        "id": "HaQhv1GiS1BG"
      },
      "source": [
        "y_pred1=pd.DataFrame(y_pred1)"
      ],
      "execution_count": null,
      "outputs": []
    },
    {
      "cell_type": "code",
      "metadata": {
        "id": "mpHc0KXUS1BH",
        "outputId": "ffd246a7-c552-44c4-bd86-d635b599022b"
      },
      "source": [
        "y_pred2.max()"
      ],
      "execution_count": null,
      "outputs": [
        {
          "output_type": "execute_result",
          "data": {
            "text/plain": [
              "175.0"
            ]
          },
          "metadata": {
            "tags": []
          },
          "execution_count": 84
        }
      ]
    },
    {
      "cell_type": "code",
      "metadata": {
        "id": "7XhbRe3jS1BI",
        "outputId": "5a13e432-4705-4fe6-d1eb-55a8434c823a"
      },
      "source": [
        "from sklearn.metrics import mean_absolute_error\n",
        "\n",
        "print(mean_absolute_error(y_test, y_pred2))"
      ],
      "execution_count": null,
      "outputs": [
        {
          "output_type": "stream",
          "text": [
            "1.9127377108001435\n"
          ],
          "name": "stdout"
        }
      ]
    },
    {
      "cell_type": "markdown",
      "metadata": {
        "id": "-tpcV_42VTge"
      },
      "source": [
        "plotting the values on a  graph"
      ]
    },
    {
      "cell_type": "code",
      "metadata": {
        "id": "ZohGLqdFS1BI",
        "outputId": "ebf01644-0e7d-4e51-fbfb-4aea40ab48ca"
      },
      "source": [
        "y = pd.concat([y_test,y_pred1],axis=1)\n",
        "y.columns = ('act','pred')\n",
        "\n",
        "y"
      ],
      "execution_count": null,
      "outputs": [
        {
          "output_type": "execute_result",
          "data": {
            "text/html": [
              "<div>\n",
              "<style scoped>\n",
              "    .dataframe tbody tr th:only-of-type {\n",
              "        vertical-align: middle;\n",
              "    }\n",
              "\n",
              "    .dataframe tbody tr th {\n",
              "        vertical-align: top;\n",
              "    }\n",
              "\n",
              "    .dataframe thead th {\n",
              "        text-align: right;\n",
              "    }\n",
              "</style>\n",
              "<table border=\"1\" class=\"dataframe\">\n",
              "  <thead>\n",
              "    <tr style=\"text-align: right;\">\n",
              "      <th></th>\n",
              "      <th>act</th>\n",
              "      <th>pred</th>\n",
              "    </tr>\n",
              "  </thead>\n",
              "  <tbody>\n",
              "    <tr>\n",
              "      <th>0</th>\n",
              "      <td>NaN</td>\n",
              "      <td>5.665245</td>\n",
              "    </tr>\n",
              "    <tr>\n",
              "      <th>1</th>\n",
              "      <td>NaN</td>\n",
              "      <td>-1.009117</td>\n",
              "    </tr>\n",
              "    <tr>\n",
              "      <th>2</th>\n",
              "      <td>NaN</td>\n",
              "      <td>-0.363257</td>\n",
              "    </tr>\n",
              "    <tr>\n",
              "      <th>3</th>\n",
              "      <td>NaN</td>\n",
              "      <td>-1.702802</td>\n",
              "    </tr>\n",
              "    <tr>\n",
              "      <th>4</th>\n",
              "      <td>NaN</td>\n",
              "      <td>5.713464</td>\n",
              "    </tr>\n",
              "    <tr>\n",
              "      <th>...</th>\n",
              "      <td>...</td>\n",
              "      <td>...</td>\n",
              "    </tr>\n",
              "    <tr>\n",
              "      <th>46444</th>\n",
              "      <td>40.0</td>\n",
              "      <td>NaN</td>\n",
              "    </tr>\n",
              "    <tr>\n",
              "      <th>46445</th>\n",
              "      <td>2.0</td>\n",
              "      <td>NaN</td>\n",
              "    </tr>\n",
              "    <tr>\n",
              "      <th>46446</th>\n",
              "      <td>1.0</td>\n",
              "      <td>NaN</td>\n",
              "    </tr>\n",
              "    <tr>\n",
              "      <th>46447</th>\n",
              "      <td>0.0</td>\n",
              "      <td>NaN</td>\n",
              "    </tr>\n",
              "    <tr>\n",
              "      <th>46448</th>\n",
              "      <td>1.0</td>\n",
              "      <td>NaN</td>\n",
              "    </tr>\n",
              "  </tbody>\n",
              "</table>\n",
              "<p>27870 rows × 2 columns</p>\n",
              "</div>"
            ],
            "text/plain": [
              "        act      pred\n",
              "0       NaN  5.665245\n",
              "1       NaN -1.009117\n",
              "2       NaN -0.363257\n",
              "3       NaN -1.702802\n",
              "4       NaN  5.713464\n",
              "...     ...       ...\n",
              "46444  40.0       NaN\n",
              "46445   2.0       NaN\n",
              "46446   1.0       NaN\n",
              "46447   0.0       NaN\n",
              "46448   1.0       NaN\n",
              "\n",
              "[27870 rows x 2 columns]"
            ]
          },
          "metadata": {
            "tags": []
          },
          "execution_count": 86
        }
      ]
    },
    {
      "cell_type": "code",
      "metadata": {
        "id": "OH1llQ95S1BJ",
        "outputId": "2cfd5e2c-a454-4e8b-bb10-9ac4acd0e817"
      },
      "source": [
        "def act_decile (x):\n",
        "    if x == 0: return \"a. 0\"\n",
        "    elif x <= 15: return \"b. (0-15] days\"\n",
        "    elif x <= 30: return \"b. (15-30] days\"\n",
        "    elif x <= 45: return \"c. (30-45] days\"\n",
        "    elif x <= 60: return \"c. (45-60] days\"\n",
        "    elif x <= 75: return \"c. (60-75] days\"\n",
        "    else: return \"d. more (75-) days\"\n",
        "y['act_bin'] = y['act'].apply(act_decile)\n",
        "y['pred'].dropna(inplace=True)\n",
        "\n",
        "temp = pd.DataFrame(y.groupby(['act_bin'], axis=0, as_index=False)['act','pred'].mean())\n",
        "temp.index = temp['act_bin']\n",
        "temp.plot(marker='o',figsize=(12,6))"
      ],
      "execution_count": null,
      "outputs": [
        {
          "output_type": "stream",
          "text": [
            "c:\\users\\kiit\\appdata\\local\\programs\\python\\python37\\lib\\site-packages\\ipykernel_launcher.py:12: FutureWarning: Indexing with multiple keys (implicitly converted to a tuple of keys) will be deprecated, use a list instead.\n",
            "  if sys.path[0] == '':\n"
          ],
          "name": "stderr"
        },
        {
          "output_type": "execute_result",
          "data": {
            "text/plain": [
              "<AxesSubplot:xlabel='act_bin'>"
            ]
          },
          "metadata": {
            "tags": []
          },
          "execution_count": 90
        },
        {
          "output_type": "display_data",
          "data": {
            "image/png": "[encoded data removed]",
            "text/plain": [
              "<Figure size 864x432 with 1 Axes>"
            ]
          },
          "metadata": {
            "tags": [],
            "needs_background": "light"
          }
        }
      ]
    },
    {
      "cell_type": "code",
      "metadata": {
        "id": "7hS0C-gdS1BK"
      },
      "source": [
        ""
      ],
      "execution_count": null,
      "outputs": []
    }
  ]
}